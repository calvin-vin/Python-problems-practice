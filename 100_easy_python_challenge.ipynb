{
  "nbformat": 4,
  "nbformat_minor": 0,
  "metadata": {
    "colab": {
      "name": "100 easy_python_challenge.ipynb",
      "provenance": [],
      "collapsed_sections": [
        "erTGVghQhrBX",
        "755TREGHgEXy",
        "SgbShhKU8r9P",
        "7csyk8OFVhR_",
        "XpItT9yCUFjJ",
        "WZAs6zqBiMgD",
        "oXQl7uJRVeqD",
        "bQvWkieVZi3o",
        "eRLSND3rI-iX",
        "qTLaRuXsvQUP",
        "Y4YYAhlMoL97",
        "GW3LLVOeVbfS"
      ],
      "authorship_tag": "ABX9TyPG7C5xdkfipl9Y+6Z3zXKh",
      "include_colab_link": true
    },
    "kernelspec": {
      "display_name": "Python 3",
      "name": "python3"
    }
  },
  "cells": [
    {
      "cell_type": "markdown",
      "metadata": {
        "id": "view-in-github",
        "colab_type": "text"
      },
      "source": [
        "<a href=\"https://colab.research.google.com/github/calvin-vin/Python-problems-practice/blob/main/100_easy_python_challenge.ipynb\" target=\"_parent\"><img src=\"https://colab.research.google.com/assets/colab-badge.svg\" alt=\"Open In Colab\"/></a>"
      ]
    },
    {
      "cell_type": "markdown",
      "metadata": {
        "id": "erTGVghQhrBX"
      },
      "source": [
        "# day 13-14"
      ]
    },
    {
      "cell_type": "code",
      "metadata": {
        "colab": {
          "base_uri": "https://localhost:8080/",
          "height": 35
        },
        "id": "Bu2QAljreqAO",
        "outputId": "2fd33892-56e8-4b5b-8fd9-120919052f69"
      },
      "source": [
        "def alphabet_position(text):\n",
        "  return \" \".join(str(ord(x)-96) for x in text.lower() if x.isalpha())\n",
        "\n",
        "\n",
        "alphabet_position(\"The sunset sets at twelve o' clock.\")\n",
        "# \"20 8 5 19 21 14 19 5 20 19 5 20 19 1 20 20 23 5 12 22 5 15 3 12 15 3 11\""
      ],
      "execution_count": null,
      "outputs": [
        {
          "output_type": "execute_result",
          "data": {
            "application/vnd.google.colaboratory.intrinsic+json": {
              "type": "string"
            },
            "text/plain": [
              "'20 8 5 19 21 14 19 5 20 19 5 20 19 1 20 20 23 5 12 22 5 15 3 12 15 3 11'"
            ]
          },
          "metadata": {
            "tags": []
          },
          "execution_count": 50
        }
      ]
    },
    {
      "cell_type": "code",
      "metadata": {
        "colab": {
          "base_uri": "https://localhost:8080/"
        },
        "id": "iyP0YVM5bIST",
        "outputId": "faacba81-6e7f-4a8d-b893-dd4c680c609e"
      },
      "source": [
        "def narcissistic( value ):\n",
        "  # return value == sum(map(lambda x: int(x)**len(str(value)), str(value)))\n",
        "  return value == sum(int(s) ** len(str(value)) for s in str(value))\n",
        "\n",
        "\n",
        "narcissistic(7) # True\n",
        "narcissistic(371) # True\n",
        "narcissistic(122) # False\n",
        "narcissistic(4887) # False"
      ],
      "execution_count": null,
      "outputs": [
        {
          "output_type": "execute_result",
          "data": {
            "text/plain": [
              "False"
            ]
          },
          "metadata": {
            "tags": []
          },
          "execution_count": 38
        }
      ]
    },
    {
      "cell_type": "code",
      "metadata": {
        "colab": {
          "base_uri": "https://localhost:8080/"
        },
        "id": "g4OFPyGdWxgB",
        "outputId": "02e4d3d3-99a6-4e1d-d644-9b3871f2e57e"
      },
      "source": [
        "def array_diff(a, b):\n",
        "    return [i for i in a if i not in b]\n",
        "\n",
        "array_diff([1,2], [1]) # [2]\n",
        "array_diff([1,2,2], [1]) # [2,2]\n",
        "array_diff([1,2,2], [2]) # [1]\n",
        "array_diff([1,2,2], []) # [1,2,2]\n",
        "array_diff([], [1,2]) # []"
      ],
      "execution_count": null,
      "outputs": [
        {
          "output_type": "execute_result",
          "data": {
            "text/plain": [
              "[2, 2]"
            ]
          },
          "metadata": {
            "tags": []
          },
          "execution_count": 22
        }
      ]
    },
    {
      "cell_type": "code",
      "metadata": {
        "colab": {
          "base_uri": "https://localhost:8080/",
          "height": 35
        },
        "id": "jWqLb8N5WdnE",
        "outputId": "9e16eac1-18a7-43c1-fbdf-e014d915adb2"
      },
      "source": [
        "def accum(s):\n",
        "    # return \"-\".join((a*i).capitalize() for i, a in enumerate(s, 1))\n",
        "    return \"-\".join(a.upper() + a.lower() * i for i, a in enumerate(s))\n",
        "\n",
        "accum(\"abcd\") # \"A-Bb-Ccc-Dddd\"\n",
        "accum(\"RqaEzty\") # \"R-Qq-Aaa-Eeee-Zzzzz-Tttttt-Yyyyyyy\"\n",
        "accum(\"cwAt\") # \"C-Ww-Aaa-Ttt"
      ],
      "execution_count": null,
      "outputs": [
        {
          "output_type": "execute_result",
          "data": {
            "application/vnd.google.colaboratory.intrinsic+json": {
              "type": "string"
            },
            "text/plain": [
              "'C-Ww-Aaa-Tttt'"
            ]
          },
          "metadata": {
            "tags": []
          },
          "execution_count": 18
        }
      ]
    },
    {
      "cell_type": "code",
      "metadata": {
        "colab": {
          "base_uri": "https://localhost:8080/"
        },
        "id": "MgHqtFqKsOsG",
        "outputId": "3f70f5bf-289a-483e-ec50-3f63481c85af"
      },
      "source": [
        "def row_sum_odd_numbers(n):\n",
        "    return n**3\n",
        "\n",
        "row_sum_odd_numbers(1) # 1\n",
        "row_sum_odd_numbers(2) # 8\n",
        "row_sum_odd_numbers(13) # 2197\n",
        "row_sum_odd_numbers(19) # 6859\n",
        "row_sum_odd_numbers(41) # 68921"
      ],
      "execution_count": null,
      "outputs": [
        {
          "output_type": "execute_result",
          "data": {
            "text/plain": [
              "68921"
            ]
          },
          "metadata": {
            "tags": []
          },
          "execution_count": 2
        }
      ]
    },
    {
      "cell_type": "code",
      "metadata": {
        "id": "HLwaMwSYr-i8"
      },
      "source": [
        "def row_sum_odd_numbers(n):\n",
        "    return sum(i for i in range())\n",
        "\n",
        "row_sum_odd_numbers(1) # 1\n",
        "row_sum_odd_numbers(2) # 8\n",
        "row_sum_odd_numbers(13) # 2197\n",
        "row_sum_odd_numbers(19) # 6859\n",
        "row_sum_odd_numbers(41) # 68921"
      ],
      "execution_count": null,
      "outputs": []
    },
    {
      "cell_type": "code",
      "metadata": {
        "colab": {
          "base_uri": "https://localhost:8080/"
        },
        "id": "1EqFIMSKpbHr",
        "outputId": "bbe79f0d-81eb-493d-caa0-b74a2d3cf96f"
      },
      "source": [
        "def open_or_senior(data):\n",
        "    return [\"Senior\" if age >= 55 and handicap > 7 else \"Open\" for (age, handicap) in data]\n",
        "\n",
        "open_or_senior([(45, 12),(55,21),(19, -2),(104, 20)]) #['Open', 'Senior', 'Open', 'Senior']\n",
        "open_or_senior([(16, 23),(73,1),(56, 20),(1, -1)]) #['Open', 'Open', 'Senior', 'Open']"
      ],
      "execution_count": null,
      "outputs": [
        {
          "output_type": "execute_result",
          "data": {
            "text/plain": [
              "['Open', 'Open', 'Senior', 'Open']"
            ]
          },
          "metadata": {
            "tags": []
          },
          "execution_count": 9
        }
      ]
    },
    {
      "cell_type": "code",
      "metadata": {
        "colab": {
          "base_uri": "https://localhost:8080/",
          "height": 35
        },
        "id": "GFo8Re7FngHe",
        "outputId": "ef94832c-7b0a-4e36-fa3d-c5733d4cd664"
      },
      "source": [
        "def disemvowel(string):\n",
        "    return \"\".join(i for i in string if i.lower() not in 'aiueo')\n",
        "\n",
        "disemvowel(\"This website is for losers LOL!\")"
      ],
      "execution_count": null,
      "outputs": [
        {
          "output_type": "execute_result",
          "data": {
            "application/vnd.google.colaboratory.intrinsic+json": {
              "type": "string"
            },
            "text/plain": [
              "'Ths wbst s fr lsrs LL!'"
            ]
          },
          "metadata": {
            "tags": []
          },
          "execution_count": 4
        }
      ]
    },
    {
      "cell_type": "code",
      "metadata": {
        "colab": {
          "base_uri": "https://localhost:8080/"
        },
        "id": "TjpmHgMGgD5X",
        "outputId": "584d6a44-3f78-4f43-ee8d-0c475e3d3c22"
      },
      "source": [
        "def future_people(P, nP):\n",
        "\treturn P + nP*12*30\n",
        "\n",
        "future_people(256, 2) # 976\n",
        "future_people(3248, 6) # 5408\n",
        "future_people(5240, 3) # 6320"
      ],
      "execution_count": null,
      "outputs": [
        {
          "output_type": "execute_result",
          "data": {
            "text/plain": [
              "6320"
            ]
          },
          "metadata": {
            "tags": []
          },
          "execution_count": 3
        }
      ]
    },
    {
      "cell_type": "markdown",
      "metadata": {
        "id": "755TREGHgEXy"
      },
      "source": [
        "# day 12"
      ]
    },
    {
      "cell_type": "code",
      "metadata": {
        "colab": {
          "base_uri": "https://localhost:8080/",
          "height": 35
        },
        "id": "dbTHMUn9qb3V",
        "outputId": "06e8c55e-9266-41ac-fd4d-b6c89238ed37"
      },
      "source": [
        "def ohms_law(v, r, i):\n",
        "  try:\n",
        "    if i == None:\n",
        "      return round(v/r, 2)\n",
        "    elif r == None:\n",
        "      return round(v/i, 2)\n",
        "    elif v == None:\n",
        "      return round(r*i, 2)\n",
        "    else:\n",
        "      return \"Invalid\"\n",
        "  except:\n",
        "    return \"Invalid\"\n",
        "\n",
        "ohms_law(12, 220, None) # 0.05\n",
        "ohms_law(230, None, 2) # 115\n",
        "ohms_law(None, 220, 0.02) # 4.4\n",
        "ohms_law(None, None, 10) # \"Invalid\"\n",
        "ohms_law(500, 50, 10) # \"Invalid\""
      ],
      "execution_count": null,
      "outputs": [
        {
          "output_type": "execute_result",
          "data": {
            "application/vnd.google.colaboratory.intrinsic+json": {
              "type": "string"
            },
            "text/plain": [
              "'Invalid'"
            ]
          },
          "metadata": {
            "tags": []
          },
          "execution_count": 50
        }
      ]
    },
    {
      "cell_type": "code",
      "metadata": {
        "colab": {
          "base_uri": "https://localhost:8080/"
        },
        "id": "sbmdmIEMp5DH",
        "outputId": "0ccf7abc-e55f-45d3-a560-f1dc155bf26f"
      },
      "source": [
        "def tuck_in(lst1, lst2):\n",
        "  for i in lst2:\n",
        "    lst1.insert(-1, i)\n",
        "  return lst1\n",
        "\n",
        "tuck_in([1, 10], [2, 3, 4, 5, 6, 7, 8, 9]) # [1, 2, 3, 4, 5, 6, 7, 8, 9, 10]\n",
        "tuck_in([15,150], [45, 75, 35]) # [15, 45, 75, 35, 150]\n",
        "tuck_in([[1, 2], [5, 6]], [[3, 4]]) # [[1, 2], [3, 4], [5, 6]]"
      ],
      "execution_count": null,
      "outputs": [
        {
          "output_type": "execute_result",
          "data": {
            "text/plain": [
              "[[1, 2], [3, 4], [5, 6]]"
            ]
          },
          "metadata": {
            "tags": []
          },
          "execution_count": 26
        }
      ]
    },
    {
      "cell_type": "code",
      "metadata": {
        "colab": {
          "base_uri": "https://localhost:8080/"
        },
        "id": "nf7TH8EWPpKp",
        "outputId": "cf269e9f-d4f7-4320-951e-3dfb6c82402e"
      },
      "source": [
        "import math\n",
        "\n",
        "def get_distance(a, b):\n",
        "  x = a[\"x\"] - b[\"x\"]\n",
        "  y = a[\"y\"] - b[\"y\"]\n",
        "  return round(math.sqrt(x*x+y*y), 3)\n",
        "\n",
        "\n",
        "get_distance({\"x\": -2, \"y\": 1}, {\"x\": 4, \"y\": 3}) # 6.325\n",
        "get_distance({\"x\": 0, \"y\": 0}, {\"x\": 1, \"y\": 1}) # 1.414\n",
        "get_distance({\"x\": 10, \"y\": -5}, {\"x\": 8, \"y\": 16}) # 21.095"
      ],
      "execution_count": null,
      "outputs": [
        {
          "output_type": "execute_result",
          "data": {
            "text/plain": [
              "21.095"
            ]
          },
          "metadata": {
            "tags": []
          },
          "execution_count": 17
        }
      ]
    },
    {
      "cell_type": "code",
      "metadata": {
        "colab": {
          "base_uri": "https://localhost:8080/"
        },
        "id": "jP5rZgT6M9WI",
        "outputId": "eb2e9b14-2e23-4020-81ba-437ca0785db7"
      },
      "source": [
        "def temp_conversion(c):\n",
        "\tf = round(c*9/5+32, 2)\n",
        "\tk = round(c+273.15, 2)\n",
        "\treturn 'Invalid' if k < 0 else [f, k]\n",
        "\t\n",
        "temp_conversion(300.4) # [572.72, 573.55]\n",
        "temp_conversion(42.8)"
      ],
      "execution_count": null,
      "outputs": [
        {
          "output_type": "execute_result",
          "data": {
            "text/plain": [
              "[109.04, 315.95]"
            ]
          },
          "metadata": {
            "tags": []
          },
          "execution_count": 10
        }
      ]
    },
    {
      "cell_type": "markdown",
      "metadata": {
        "id": "SgbShhKU8r9P"
      },
      "source": [
        "# day 11"
      ]
    },
    {
      "cell_type": "code",
      "metadata": {
        "colab": {
          "base_uri": "https://localhost:8080/"
        },
        "id": "T-0tiNmp7SMi",
        "outputId": "d10997c0-10e0-4886-865a-df14ae4735fd"
      },
      "source": [
        "def count_all(txt):\n",
        "  return { \"LETTERS\":  sum(i.isalpha() for i in txt), \"DIGITS\": sum(i.isdigit() for i in txt) }\n",
        "\n",
        "count_all(\"Hello World\") # { \"LETTERS\":  10, \"DIGITS\": 0 }\n",
        "count_all(\"H3ll0 Wor1d\") # { \"LETTERS\":  7, \"DIGITS\": 3 }\n",
        "count_all(\"149990\") # { \"LETTERS\": 0, \"DIGITS\": 6 }"
      ],
      "execution_count": null,
      "outputs": [
        {
          "output_type": "execute_result",
          "data": {
            "text/plain": [
              "{'DIGITS': 6, 'LETTERS': 0}"
            ]
          },
          "metadata": {
            "tags": []
          },
          "execution_count": 72
        }
      ]
    },
    {
      "cell_type": "code",
      "metadata": {
        "colab": {
          "base_uri": "https://localhost:8080/"
        },
        "id": "9fWISEB142Ux",
        "outputId": "6adcd07a-45e6-4b2d-d2f4-ebdab6319562"
      },
      "source": [
        "def count_palindromes(num1, num2):\n",
        "  return sum(1 for i in range(num1, num2+1) if str(i) == str(i)[::-1])\n",
        "\n",
        "count_palindromes(1, 10) # 9\n",
        "count_palindromes(555, 556) # 1\n",
        "count_palindromes(878, 898) # 3"
      ],
      "execution_count": null,
      "outputs": [
        {
          "output_type": "execute_result",
          "data": {
            "text/plain": [
              "3"
            ]
          },
          "metadata": {
            "tags": []
          },
          "execution_count": 69
        }
      ]
    },
    {
      "cell_type": "code",
      "metadata": {
        "colab": {
          "base_uri": "https://localhost:8080/",
          "height": 35
        },
        "id": "tEGnda_C2xtT",
        "outputId": "cb7a4e6e-c567-407d-d18c-50055cf375f9"
      },
      "source": [
        "def find_nemo(sentence):\n",
        "  for i,j in enumerate(sentence.split(\" \")):\n",
        "    if j == \"Nemo\":\n",
        "      return \"I found Nemo at \" + str(i+1) +\"!\"\n",
        "  return \"I can't find Nemo :(\"\n",
        "\n",
        "find_nemo(\"I am finding Nemo !\") # \"I found Nemo at 4!\"\n",
        "find_nemo(\"Nemo is me\") # \"I found Nemo at 1!\"\n",
        "find_nemo(\"I Nemo am\") # \"I found Nemo at 2!\""
      ],
      "execution_count": null,
      "outputs": [
        {
          "output_type": "execute_result",
          "data": {
            "application/vnd.google.colaboratory.intrinsic+json": {
              "type": "string"
            },
            "text/plain": [
              "'I found Nemo at 2!'"
            ]
          },
          "metadata": {
            "tags": []
          },
          "execution_count": 63
        }
      ]
    },
    {
      "cell_type": "code",
      "metadata": {
        "colab": {
          "base_uri": "https://localhost:8080/"
        },
        "id": "_o0lgDlW2tKT",
        "outputId": "a20f934c-17e5-4061-9e9c-f2553e0f3fb2"
      },
      "source": [
        "import math\n",
        "\n",
        "def number_split(n):\n",
        "  # return [math.floor(n/2), math.ceil(n/2)]\n",
        "  return [n//2, n-n//2]\t\n",
        "\n",
        "number_split(4) # [2, 2]\n",
        "number_split(10) # [5, 5]\n",
        "number_split(11) # [5, 6]\n",
        "number_split(-9) # [-5, -4]"
      ],
      "execution_count": null,
      "outputs": [
        {
          "output_type": "execute_result",
          "data": {
            "text/plain": [
              "[-5, -4]"
            ]
          },
          "metadata": {
            "tags": []
          },
          "execution_count": 53
        }
      ]
    },
    {
      "cell_type": "code",
      "metadata": {
        "colab": {
          "base_uri": "https://localhost:8080/",
          "height": 35
        },
        "id": "dvSUWn2TbdFo",
        "outputId": "95c27d30-c1b2-431c-b369-664dd9cf0e4c"
      },
      "source": [
        "def split(txt):\n",
        "  # return \"\".join([i for i in txt if i in 'aiueoAIUEO'] + [i for i in txt if i not in 'aiueoAIUEO'])\n",
        "  return ''.join(sorted(txt, key=lambda x: x.lower() not  in 'aeiou'))\n",
        "\n",
        "split(\"abcde\") # \"aebcd\"\n",
        "split(\"Hello!\") # \"eoHll!\"\n",
        "split(\"What's the time?\") # \"aeieWht's th tm?\""
      ],
      "execution_count": null,
      "outputs": [
        {
          "output_type": "execute_result",
          "data": {
            "application/vnd.google.colaboratory.intrinsic+json": {
              "type": "string"
            },
            "text/plain": [
              "\"aeieWht's th tm?\""
            ]
          },
          "metadata": {
            "tags": []
          },
          "execution_count": 45
        }
      ]
    },
    {
      "cell_type": "code",
      "metadata": {
        "colab": {
          "base_uri": "https://localhost:8080/"
        },
        "id": "hrIRVWkaaIfb",
        "outputId": "59875b28-9e5c-4de5-c3c7-48d18defb7bb"
      },
      "source": [
        "def spin_around(lst):\n",
        "  # return abs(round(sum([90 if i == \"right\" else -90 for i in lst])/360))\n",
        "  return abs((lst.count('left') - lst.count('right')) // 4)\n",
        "\n",
        "spin_around([\"left\", \"right\", \"left\", \"right\"]) # 0\n",
        "spin_around([\"right\", \"right\", \"right\", \"right\", \"right\", \"right\", \"right\", \"right\"]) # 2\n",
        "spin_around([\"left\", \"left\", \"left\", \"left\"]) # 1"
      ],
      "execution_count": null,
      "outputs": [
        {
          "output_type": "execute_result",
          "data": {
            "text/plain": [
              "2"
            ]
          },
          "metadata": {
            "tags": []
          },
          "execution_count": 35
        }
      ]
    },
    {
      "cell_type": "code",
      "metadata": {
        "colab": {
          "base_uri": "https://localhost:8080/",
          "height": 35
        },
        "id": "Z0Dm--rcXXjD",
        "outputId": "4c2e7323-bc9b-45c8-faa1-bfc337680cf7"
      },
      "source": [
        "def ascii_sort(lst):\n",
        "  # summing = [sum(ord(i) for i in lst[0]), sum(ord(i) for i in lst[1])]\n",
        "  # return lst[summing.index(min(summing))]\n",
        "  return sorted(lst, key=lambda l: sum(map(ord, l)))[0]\n",
        "\n",
        "ascii_sort([\"hey\", \"man\"]) # \"man\"\n",
        "# [\"h\", \"e\", \"y\"] ➞ sum([104, 101, 121]) ➞ 326\n",
        "# [\"m\", \"a\", \"n\"] ➞ sum([109, 97, 110]) ➞ 316\n",
        "\n",
        "ascii_sort([\"majorly\", \"then\"]) # \"then\"\n",
        "\n",
        "ascii_sort([\"victory\", \"careless\"]) # \"victory\""
      ],
      "execution_count": null,
      "outputs": [
        {
          "output_type": "execute_result",
          "data": {
            "application/vnd.google.colaboratory.intrinsic+json": {
              "type": "string"
            },
            "text/plain": [
              "'victory'"
            ]
          },
          "metadata": {
            "tags": []
          },
          "execution_count": 27
        }
      ]
    },
    {
      "cell_type": "code",
      "metadata": {
        "colab": {
          "base_uri": "https://localhost:8080/"
        },
        "id": "6qitGvQbVgcR",
        "outputId": "1dc72c17-a396-493b-fdb9-27f3d1f39311"
      },
      "source": [
        "def flatten_the_curve(lst):\n",
        "  return [round(sum(lst)/len(lst),1) for _ in range(len(lst))]\n",
        "\n",
        "flatten_the_curve([1, 2, 3, 4, 5]) # [3, 3, 3, 3, 3]\n",
        "flatten_the_curve([0, 0, 0, 2, 7, 3]) # [2, 2, 2, 2, 2, 2]\n",
        "flatten_the_curve([4]) # [4]\n",
        "flatten_the_curve([]) # []\n",
        "flatten_the_curve([-13, 0, -18])"
      ],
      "execution_count": null,
      "outputs": [
        {
          "output_type": "execute_result",
          "data": {
            "text/plain": [
              "[-10.3, -10.3, -10.3]"
            ]
          },
          "metadata": {
            "tags": []
          },
          "execution_count": 15
        }
      ]
    },
    {
      "cell_type": "markdown",
      "metadata": {
        "id": "7csyk8OFVhR_"
      },
      "source": [
        "# day 9-10"
      ]
    },
    {
      "cell_type": "code",
      "metadata": {
        "colab": {
          "base_uri": "https://localhost:8080/"
        },
        "id": "l9q0a_bLFjPk",
        "outputId": "1ee0e40e-3ae6-46e9-ff82-08cf1f67bc6b"
      },
      "source": [
        "def numbers_sum(lst):\n",
        "  return sum([i for i in lst if type(i)==int])\n",
        "\n",
        "numbers_sum([1, 2, \"13\", \"4\", \"645\"]) # 3\n",
        "numbers_sum([True, False, \"123\", \"75\"]) # 0\n",
        "numbers_sum([1, 2, 3, 4, 5, True]) # 15"
      ],
      "execution_count": null,
      "outputs": [
        {
          "output_type": "execute_result",
          "data": {
            "text/plain": [
              "15"
            ]
          },
          "metadata": {
            "tags": []
          },
          "execution_count": 2
        }
      ]
    },
    {
      "cell_type": "code",
      "metadata": {
        "colab": {
          "base_uri": "https://localhost:8080/",
          "height": 35
        },
        "id": "u2d6hin7-yhn",
        "outputId": "d597c5ef-a3d2-4f0b-88e5-e23f013bce8a"
      },
      "source": [
        "import math\n",
        "\n",
        "def factor_group(num):\n",
        "  # return \"odd\" if len([i for i in range(1, num+1) if num % i == 0])%2 else \"even\"\n",
        "  return \"odd\" if math.sqrt(num)%1 == 0 else \"even\"\n",
        "\n",
        "factor_group(33) # \"even\"\n",
        "factor_group(36) # \"odd\"\n",
        "factor_group(7) # \"even\""
      ],
      "execution_count": null,
      "outputs": [
        {
          "output_type": "execute_result",
          "data": {
            "application/vnd.google.colaboratory.intrinsic+json": {
              "type": "string"
            },
            "text/plain": [
              "'even'"
            ]
          },
          "metadata": {
            "tags": []
          },
          "execution_count": 44
        }
      ]
    },
    {
      "cell_type": "code",
      "metadata": {
        "colab": {
          "base_uri": "https://localhost:8080/",
          "height": 35
        },
        "id": "6mu_9GVd8No4",
        "outputId": "05d0cc8f-1769-48a6-8499-07050cf6439b"
      },
      "source": [
        "def reverse(txt):\n",
        "  if txt == '':\n",
        "    return txt\n",
        "  return txt[-1] + reverse(txt[:-1])\n",
        "\n",
        "reverse(\"hello\") # \"olleh\""
      ],
      "execution_count": null,
      "outputs": [
        {
          "output_type": "execute_result",
          "data": {
            "application/vnd.google.colaboratory.intrinsic+json": {
              "type": "string"
            },
            "text/plain": [
              "'olleh'"
            ]
          },
          "metadata": {
            "tags": []
          },
          "execution_count": 25
        }
      ]
    },
    {
      "cell_type": "code",
      "metadata": {
        "colab": {
          "base_uri": "https://localhost:8080/",
          "height": 35
        },
        "id": "yjTlltC07OGZ",
        "outputId": "531ff87e-f374-41ae-efb9-2a17ed160842"
      },
      "source": [
        "def remove_vowels(string):\n",
        "  vowels = \"aeiou\"\n",
        "  return \"\".join(i for i in string if i not in vowels)\n",
        "\n",
        "remove_vowels(\"ben\") # \"bn\"\n",
        "remove_vowels(\"hello\") # \"hllo\"\n",
        "# The \"e\" is removed, but the \"o\" is still there!\n",
        "remove_vowels(\"apple\") # \"appl\"\n",
        "# The \"e\" is removed, but the \"a\" is still t"
      ],
      "execution_count": null,
      "outputs": [
        {
          "output_type": "execute_result",
          "data": {
            "application/vnd.google.colaboratory.intrinsic+json": {
              "type": "string"
            },
            "text/plain": [
              "'ppl'"
            ]
          },
          "metadata": {
            "tags": []
          },
          "execution_count": 12
        }
      ]
    },
    {
      "cell_type": "code",
      "metadata": {
        "colab": {
          "base_uri": "https://localhost:8080/"
        },
        "id": "MWiWiO-inVc9",
        "outputId": "bed9d138-faea-46a8-e831-40d74cbcb261"
      },
      "source": [
        "import re\n",
        "\n",
        "txt = \"Texas = no, California = yes, Florida = yes, Michigan = no\"\n",
        "pattern = \"(\\w+) (?!= yes)\"\n",
        "\n",
        "re.findall(pattern, txt) # [\"Texas\", \"Michigan\"]"
      ],
      "execution_count": null,
      "outputs": [
        {
          "output_type": "execute_result",
          "data": {
            "text/plain": [
              "['Texas', 'Michigan']"
            ]
          },
          "metadata": {
            "tags": []
          },
          "execution_count": 31
        }
      ]
    },
    {
      "cell_type": "code",
      "metadata": {
        "colab": {
          "base_uri": "https://localhost:8080/"
        },
        "id": "5v4ER1JDfpg5",
        "outputId": "56555ae8-7d7c-453a-9cf7-c3967ab0873b"
      },
      "source": [
        "import re\n",
        "\n",
        "txt = \"Texas = no, California = yes, Florida = yes, Michigan = no\"\n",
        "pattern = '\\w+(?=\\s=\\syes)'\n",
        "\n",
        "re.findall(pattern, txt) # [\"California\", \"Florida\"]"
      ],
      "execution_count": null,
      "outputs": [
        {
          "output_type": "execute_result",
          "data": {
            "text/plain": [
              "['California', 'Florida']"
            ]
          },
          "metadata": {
            "tags": []
          },
          "execution_count": 71
        }
      ]
    },
    {
      "cell_type": "code",
      "metadata": {
        "colab": {
          "base_uri": "https://localhost:8080/"
        },
        "id": "aTYRrNmfclOP",
        "outputId": "f357cd78-b7a2-400b-e1a4-15e5a5a3d3d0"
      },
      "source": [
        "import re\n",
        "\n",
        "pattern = \"\\Bend\\B\"\n",
        "\n",
        "bool(re.search(pattern, \"The end of the story.\"))# False\n",
        "bool(re.search(pattern, \"Endings are pointless.\"))# False\n",
        "bool(re.search(pattern, \"Let's send!\"))# False\n",
        "bool(re.search(pattern, \"We viewed the rendering at the end.\"))# True\n",
        "bool(re.search(pattern, \"Sometimes bending the rules is good.\"))# True"
      ],
      "execution_count": null,
      "outputs": [
        {
          "output_type": "execute_result",
          "data": {
            "text/plain": [
              "True"
            ]
          },
          "metadata": {
            "tags": []
          },
          "execution_count": 20
        }
      ]
    },
    {
      "cell_type": "code",
      "metadata": {
        "colab": {
          "base_uri": "https://localhost:8080/"
        },
        "id": "i8xnuroGYwDq",
        "outputId": "0dafa5f9-0c3a-47b4-c701-2b7ba9ac298f"
      },
      "source": [
        "import re\n",
        "\n",
        "pattern = \"^/users/edabit\"\n",
        "\n",
        "bool(re.search(pattern, \"/users/edabit/python/regex.py\")) # True\n",
        "bool(re.search(pattern, \"/users/edabitt/python/file.txt\")) # False\n",
        "bool(re.search(pattern, \"/users/pyter/edabit/file.py\")) # False"
      ],
      "execution_count": null,
      "outputs": [
        {
          "output_type": "execute_result",
          "data": {
            "text/plain": [
              "True"
            ]
          },
          "metadata": {
            "tags": []
          },
          "execution_count": 9
        }
      ]
    },
    {
      "cell_type": "code",
      "metadata": {
        "colab": {
          "base_uri": "https://localhost:8080/",
          "height": 35
        },
        "id": "saGkfIwyWiS7",
        "outputId": "b855efa1-0cec-4f65-ad0f-f46baeb2ec4b"
      },
      "source": [
        "def prevent_distractions(txt):\n",
        "  no_watch = (\"anime\", \"meme\", \"vines\", \"roasts\", \"Danny DeVito\")\n",
        "  # for no in no_watch:\n",
        "  #   if no in txt:\n",
        "  #     return \"NO!\"\n",
        "  # return \"Safe watching!\"\n",
        "  return \"NO!\" if any(i in txt for i in no_watch) else \"Safe watching!\"\n",
        "\n",
        "prevent_distractions(\"vines that butter my eggroll\") # \"NO!\"\n",
        "prevent_distractions(\"Hot pictures of Danny DeVito\") # \"NO!\"\n",
        "prevent_distractions(\"How to ace BC Calculus in 5 Easy Steps\") # \"Safe watching!\""
      ],
      "execution_count": null,
      "outputs": [
        {
          "output_type": "execute_result",
          "data": {
            "application/vnd.google.colaboratory.intrinsic+json": {
              "type": "string"
            },
            "text/plain": [
              "'NO!'"
            ]
          },
          "metadata": {
            "tags": []
          },
          "execution_count": 66
        }
      ]
    },
    {
      "cell_type": "code",
      "metadata": {
        "colab": {
          "base_uri": "https://localhost:8080/"
        },
        "id": "X6d-GJeEURSF",
        "outputId": "fbb44e24-2b3e-41ce-cb9a-f5e235a2e360"
      },
      "source": [
        "def war_of_numbers(lst):\n",
        "  return abs(sum(i if i%2 else -i for i in lst))\n",
        "\n",
        "war_of_numbers([2, 8, 7, 5]) # 2\n",
        "# 2 + 8 = 10\n",
        "# 7 + 5 = 12\n",
        "# 12 is larger than 10\n",
        "# So we return 12 - 10 = 2"
      ],
      "execution_count": null,
      "outputs": [
        {
          "output_type": "execute_result",
          "data": {
            "text/plain": [
              "2"
            ]
          },
          "metadata": {
            "tags": []
          },
          "execution_count": 52
        }
      ]
    },
    {
      "cell_type": "code",
      "metadata": {
        "colab": {
          "base_uri": "https://localhost:8080/"
        },
        "id": "iVVrKlh_T6K1",
        "outputId": "e5fca9c9-3be7-4c0c-800a-0af261979438"
      },
      "source": [
        "def jazzify(lst):\n",
        "  return [i if i.endswith('7') else i+'7' for i in lst]\n",
        "\n",
        "jazzify([\"G\", \"F\", \"C\"]) # [\"G7\", \"F7\", \"C7\"]\n",
        "jazzify([\"Dm\", \"G\", \"E\", \"A\"]) # [\"Dm7\", \"G7\", \"E7\", \"A7\"]\n",
        "jazzify([\"F7\", \"E7\", \"A7\", \"Ab7\", \"Gm7\", \"C7\"]) # [\"F7\", \"E7\", \"A7\", \"Ab7\", \"Gm7\", \"C7\"]\n",
        "jazzify([]) # []"
      ],
      "execution_count": null,
      "outputs": [
        {
          "output_type": "execute_result",
          "data": {
            "text/plain": [
              "[]"
            ]
          },
          "metadata": {
            "tags": []
          },
          "execution_count": 51
        }
      ]
    },
    {
      "cell_type": "code",
      "metadata": {
        "colab": {
          "base_uri": "https://localhost:8080/",
          "height": 35
        },
        "id": "yOumu1mRSAM2",
        "outputId": "c3d12c4a-42b2-4c3c-8ab9-fe317cb02286"
      },
      "source": [
        "def odds_vs_evens(num):\n",
        "  # odd = sum(int(i) for i in str(num) if int(i)%2)\n",
        "  # even = sum(int(i) for i in str(num) if not int(i)%2)\n",
        "  # return \"odd\" if odd > even else \"even\" if even > odd else \"equal\"\n",
        "  total = sum(int(i) if int(i)%2 else -int(i) for i in str(num))\n",
        "  return \"odd\" if total > 0 else \"even\" if total < 0 else \"equal\"\n",
        "\n",
        "odds_vs_evens(97428) # \"odd\"\n",
        "# odd = 16 (9+7)\n",
        "# even = 14 (4+2+8)\n",
        "\n",
        "odds_vs_evens(81961) # \"even\"\n",
        "# odd = 11 (1+9+1)\n",
        "# even = 14 (8+6)\n",
        "\n",
        "odds_vs_evens(54870) # \"equal\"\n",
        "# odd = 12 (5+7)\n",
        "# even = 12 (4+8+0)"
      ],
      "execution_count": null,
      "outputs": [
        {
          "output_type": "execute_result",
          "data": {
            "application/vnd.google.colaboratory.intrinsic+json": {
              "type": "string"
            },
            "text/plain": [
              "'equal'"
            ]
          },
          "metadata": {
            "tags": []
          },
          "execution_count": 40
        }
      ]
    },
    {
      "cell_type": "code",
      "metadata": {
        "colab": {
          "base_uri": "https://localhost:8080/",
          "height": 35
        },
        "id": "UfbpX6FUPcFH",
        "outputId": "1193f342-6254-4b3d-87f8-1244e623d2d1"
      },
      "source": [
        "def print_all_groups():\n",
        "\treturn \", \".join(i+j for i in '123456' for j in 'abcde')\n",
        " \n",
        "print_all_groups()"
      ],
      "execution_count": null,
      "outputs": [
        {
          "output_type": "execute_result",
          "data": {
            "application/vnd.google.colaboratory.intrinsic+json": {
              "type": "string"
            },
            "text/plain": [
              "'1a, 1b, 1c, 1d, 1e, 2a, 2b, 2c, 2d, 2e, 3a, 3b, 3c, 3d, 3e, 4a, 4b, 4c, 4d, 4e, 5a, 5b, 5c, 5d, 5e, 6a, 6b, 6c, 6d, 6e'"
            ]
          },
          "metadata": {
            "tags": []
          },
          "execution_count": 28
        }
      ]
    },
    {
      "cell_type": "code",
      "metadata": {
        "colab": {
          "base_uri": "https://localhost:8080/"
        },
        "id": "oh6BfEtdDdJ3",
        "outputId": "b7185dd9-6bd3-4dc2-8612-1e188e6f5ad8"
      },
      "source": [
        "def inclusive_list(start_num, end_num):\n",
        "  # return [start_num] if start_num > end_num else [i for i in range(start_num, end_num+1)]\n",
        "  return list(range(start_num, end_num+1)) or [start_num]\n",
        "\n",
        "inclusive_list(1, 5) # [1, 2, 3, 4, 5]\n",
        "inclusive_list(2, 8) # [2, 3, 4, 5, 6, 7, 8]\n",
        "inclusive_list(10, 20) # [10, 11, 12, 13, 14, 15, 16, 17, 18, 19, 20]\n",
        "inclusive_list(17, 5) # [17]"
      ],
      "execution_count": null,
      "outputs": [
        {
          "output_type": "execute_result",
          "data": {
            "text/plain": [
              "[17]"
            ]
          },
          "metadata": {
            "tags": []
          },
          "execution_count": 26
        }
      ]
    },
    {
      "cell_type": "code",
      "metadata": {
        "colab": {
          "base_uri": "https://localhost:8080/"
        },
        "id": "E_IxF8D3CAnt",
        "outputId": "9186bb91-33f8-4f7f-d64b-cc46660d2706"
      },
      "source": [
        "def to_list(num):\n",
        "  return [int(i) for i in str(num)]\n",
        "\t\n",
        "\n",
        "def to_number(lst):\n",
        "  return int(\"\".join(str(i) for i in lst))\n",
        "\n",
        "to_list(235) # [2, 3, 5]\n",
        "to_list(0) # [0]\n",
        "to_number([2, 3, 5]) # 235\n",
        "to_number([0]) # 0"
      ],
      "execution_count": null,
      "outputs": [
        {
          "output_type": "execute_result",
          "data": {
            "text/plain": [
              "0"
            ]
          },
          "metadata": {
            "tags": []
          },
          "execution_count": 17
        }
      ]
    },
    {
      "cell_type": "code",
      "metadata": {
        "colab": {
          "base_uri": "https://localhost:8080/"
        },
        "id": "TjC1cWgoBaSs",
        "outputId": "7216df8e-0978-4c5c-96dd-0df959796d27"
      },
      "source": [
        "def integer_boolean(n):\n",
        "\t# return [bool(int(i)) for i in n]\n",
        "  return [i == '1' for i in n]\n",
        "\n",
        "integer_boolean(\"100101\") # [True, False, False, True, False, True]"
      ],
      "execution_count": null,
      "outputs": [
        {
          "output_type": "execute_result",
          "data": {
            "text/plain": [
              "[True, False, False, True, False, True]"
            ]
          },
          "metadata": {
            "tags": []
          },
          "execution_count": 6
        }
      ]
    },
    {
      "cell_type": "markdown",
      "metadata": {
        "id": "XpItT9yCUFjJ"
      },
      "source": [
        "#day 8"
      ]
    },
    {
      "cell_type": "code",
      "metadata": {
        "colab": {
          "base_uri": "https://localhost:8080/"
        },
        "id": "XMY8ja83Gxjn",
        "outputId": "f2fef981-eb1a-40b8-90aa-56fe84844c39"
      },
      "source": [
        "import re\n",
        "\n",
        "pattern = \"\\.pyw?$\" #\"\\.py$|\\.pyw$\"\n",
        "\n",
        "bool(re.search(pattern, \"/users/file.py\")) # True\n",
        "bool(re.search(pattern, \"/users/file.pyw\")) # True\n",
        "bool(re.search(pattern, \"/users/python/file.txt\")) # False\n",
        "bool(re.search(pattern, \"/users/file.opy\")) # False"
      ],
      "execution_count": null,
      "outputs": [
        {
          "output_type": "execute_result",
          "data": {
            "text/plain": [
              "False"
            ]
          },
          "metadata": {
            "tags": []
          },
          "execution_count": 5
        }
      ]
    },
    {
      "cell_type": "code",
      "metadata": {
        "colab": {
          "base_uri": "https://localhost:8080/"
        },
        "id": "8t9mslVqQ4gS",
        "outputId": "ad5abe1a-6c70-4812-c2a8-ce4a62cf714f"
      },
      "source": [
        "def hamming_distance(txt1, txt2):\n",
        "  # return sum(1 for i in range(len(txt1)) if txt1[i] != txt2[i])\n",
        "  return sum(x != y for x,y in zip(txt1, txt2))\n",
        "\n",
        "\n",
        "hamming_distance(\"abcde\", \"bcdef\") # 5\n",
        "hamming_distance(\"abcde\", \"abcde\") # 0\n",
        "hamming_distance(\"strong\", \"strung\") # 1"
      ],
      "execution_count": null,
      "outputs": [
        {
          "output_type": "execute_result",
          "data": {
            "text/plain": [
              "1"
            ]
          },
          "metadata": {
            "tags": []
          },
          "execution_count": 121
        }
      ]
    },
    {
      "cell_type": "code",
      "metadata": {
        "colab": {
          "base_uri": "https://localhost:8080/"
        },
        "id": "FwBgPw7rPhah",
        "outputId": "5f55081c-8ba0-429c-96c4-3a548c9250e1"
      },
      "source": [
        "def count(deck):\n",
        "  # sum = 0\n",
        "  # for card in deck:\n",
        "  #   if card in [2,3,4,5,6]:\n",
        "  #     sum += 1\n",
        "  #   elif card in [10,\"J\",\"Q\",\"K\", \"A\"]:\n",
        "  #     sum -= 1\n",
        "  # return sum\n",
        "  return sum(1 if i in [2,3,4,5,6] else -1 if i in [10,\"J\",\"Q\",\"K\", \"A\"] else 0 for i in deck)\n",
        "  \n",
        "\n",
        "count([5, 9, 10, 3, \"J\", \"A\", 4, 8, 5]) # 1\n",
        "count([\"A\", \"A\", \"K\", \"Q\", \"Q\", \"J\"]) # -6\n",
        "count([\"A\", 5, 5, 2, 6, 2, 3, 8, 9, 7]) # 5"
      ],
      "execution_count": null,
      "outputs": [
        {
          "output_type": "execute_result",
          "data": {
            "text/plain": [
              "5"
            ]
          },
          "metadata": {
            "tags": []
          },
          "execution_count": 114
        }
      ]
    },
    {
      "cell_type": "code",
      "metadata": {
        "colab": {
          "base_uri": "https://localhost:8080/",
          "height": 35
        },
        "id": "OegznoKWM2dP",
        "outputId": "416abd08-a64c-42a4-ad19-845b2d110a16"
      },
      "source": [
        "def inator_inator(inv):\n",
        "  return inv + [\"inator\", \"-inator\"][inv[-1].lower() in 'aiueo'] + \" \" + str(len(inv)) + \"000\"\n",
        "\n",
        "inator_inator(\"Shrink\") # \"Shrinkinator 6000\"\n",
        "inator_inator(\"Doom\") # \"Doominator 4000\"\n",
        "inator_inator(\"EvilClone\") # \"EvilClone-inator 9000\""
      ],
      "execution_count": null,
      "outputs": [
        {
          "output_type": "execute_result",
          "data": {
            "application/vnd.google.colaboratory.intrinsic+json": {
              "type": "string"
            },
            "text/plain": [
              "'EvilClone-inator 9000'"
            ]
          },
          "metadata": {
            "tags": []
          },
          "execution_count": 88
        }
      ]
    },
    {
      "cell_type": "code",
      "metadata": {
        "colab": {
          "base_uri": "https://localhost:8080/"
        },
        "id": "hhgq6RnFDPco",
        "outputId": "19aea9fe-aeb2-4593-e132-7677c7d1ad75"
      },
      "source": [
        "def convert_to_number(dct):\n",
        "  return {key: int(value) for key,value in dct.items()} \n",
        "\n",
        "convert_to_number({ \"piano\": \"200\", \"tv\": \"300\", \"stereo\": \"400\" }) # { \"piano\": 200, \"tv\": 300, \"stereo\": 400 }"
      ],
      "execution_count": null,
      "outputs": [
        {
          "output_type": "execute_result",
          "data": {
            "text/plain": [
              "{'piano': 200, 'stereo': 400, 'tv': 300}"
            ]
          },
          "metadata": {
            "tags": []
          },
          "execution_count": 56
        }
      ]
    },
    {
      "cell_type": "code",
      "metadata": {
        "colab": {
          "base_uri": "https://localhost:8080/"
        },
        "id": "sNnnR65a_q2B",
        "outputId": "891370b4-64da-4283-d760-2b27aa85fcbd"
      },
      "source": [
        "def third_most_expensive(dct):\n",
        "  try:\n",
        "    return sorted(dct, key=dct.get, reverse=True)[2]\n",
        "  except:\n",
        "    return False\n",
        "\n",
        "third_most_expensive({}) # False\n",
        "third_most_expensive({\"piano\": 100}) # False\n",
        "third_most_expensive({\"piano\": 100, \"stereo\": 200 }) # False\n",
        "third_most_expensive({\"piano\": 100, \"stereo\": 200, \"tv\": 10 }) # \"tv\"\n",
        "third_most_expensive({\"piano\": 100, \"stereo\": 200, \"tv\": 10, \"timmy\": 500 }) # \"piano\"\n",
        "third_most_expensive({\"computer\": 1000, \"piano\": 500, \"stereo\": 200, \"tv\": 10, \"timmy\": 1 }) # \"stereo\""
      ],
      "execution_count": null,
      "outputs": [
        {
          "output_type": "execute_result",
          "data": {
            "text/plain": [
              "False"
            ]
          },
          "metadata": {
            "tags": []
          },
          "execution_count": 48
        }
      ]
    },
    {
      "cell_type": "code",
      "metadata": {
        "colab": {
          "base_uri": "https://localhost:8080/"
        },
        "id": "cFv0MmUY_BCk",
        "outputId": "edee8571-5572-4bcf-b1ac-379665d40bb7"
      },
      "source": [
        "def add_name(obj, name, value):\n",
        "  # obj[name] = value\n",
        "  # return obj\n",
        "  obj.update({name: value})\n",
        "  return obj\n",
        "\n",
        "add_name({}, \"Brutus\", 300) # { \"Brutus\": 300 }\n",
        "add_name({ \"piano\": 500 }, \"Brutus\", 400) # { \"piano\": 500, \"Brutus\": 400 }\n",
        "add_name({ \"piano\": 500, \"stereo\": 300 }, \"Caligula\", 440) # { \"piano\": 500, \"stereo\": 300, \"Caligula\": 440 }"
      ],
      "execution_count": null,
      "outputs": [
        {
          "output_type": "execute_result",
          "data": {
            "text/plain": [
              "{'Caligula': 440, 'piano': 500, 'stereo': 300}"
            ]
          },
          "metadata": {
            "tags": []
          },
          "execution_count": 20
        }
      ]
    },
    {
      "cell_type": "code",
      "metadata": {
        "colab": {
          "base_uri": "https://localhost:8080/",
          "height": 35
        },
        "id": "TCzBlAzM-u38",
        "outputId": "93e7646c-d218-4ebc-a7e3-11b940bb38ab"
      },
      "source": [
        "def find_it(items, name):\n",
        "  # return name.capitalize() + \" is here!\" if name not in items else name.capitalize() + \" is gone...\"\n",
        "  return \"{} is {}\".format(name.title(), \"gone...\" if name in items else \"here!\")\n",
        "\n",
        "\n",
        "find_it({\n",
        "  \"tv\": 30,\n",
        "  \"stereo\": 50,\n",
        "}, \"rocky\")"
      ],
      "execution_count": null,
      "outputs": [
        {
          "output_type": "execute_result",
          "data": {
            "application/vnd.google.colaboratory.intrinsic+json": {
              "type": "string"
            },
            "text/plain": [
              "'Rocky is here!'"
            ]
          },
          "metadata": {
            "tags": []
          },
          "execution_count": 11
        }
      ]
    },
    {
      "cell_type": "markdown",
      "metadata": {
        "id": "WZAs6zqBiMgD"
      },
      "source": [
        "# day 7"
      ]
    },
    {
      "cell_type": "code",
      "metadata": {
        "colab": {
          "base_uri": "https://localhost:8080/",
          "height": 35
        },
        "id": "oAziTyHRoPhc",
        "outputId": "6c98f10e-572d-4254-fdeb-80fc24675546"
      },
      "source": [
        "def most_expensive_item(products):\n",
        "  return max(products, key=products.get)\n",
        "\n",
        "most_expensive_item({\n",
        "  \"tv\": 30,\n",
        "  \"skate\": 20,\n",
        "  \"stereo\": 50,\n",
        "})"
      ],
      "execution_count": null,
      "outputs": [
        {
          "output_type": "execute_result",
          "data": {
            "application/vnd.google.colaboratory.intrinsic+json": {
              "type": "string"
            },
            "text/plain": [
              "'stereo'"
            ]
          },
          "metadata": {
            "tags": []
          },
          "execution_count": 29
        }
      ]
    },
    {
      "cell_type": "code",
      "metadata": {
        "colab": {
          "base_uri": "https://localhost:8080/",
          "height": 35
        },
        "id": "XA18pREansdd",
        "outputId": "04a0f8d6-74c6-4796-b411-56c034a8ea04"
      },
      "source": [
        "def calculate_losses(items):\n",
        "\t# return \"Lucky you!\" if len (items) == 0 else sum(items.values())\n",
        "  return sum(items.values()) or \"Lucky you!\"\n",
        "\n",
        "calculate_losses({\n",
        "  \"tv\" : 30,\n",
        "  \"skate\" : 20,\n",
        "  \"stereo\" : 50,\n",
        "}) # 100\n",
        "\n",
        "calculate_losses({\n",
        "  \"painting\" : 20000,\n",
        "}) # 20000\n",
        "\n",
        "calculate_losses({}) # \"Lucky you!\""
      ],
      "execution_count": null,
      "outputs": [
        {
          "output_type": "execute_result",
          "data": {
            "application/vnd.google.colaboratory.intrinsic+json": {
              "type": "string"
            },
            "text/plain": [
              "'Lucky you!'"
            ]
          },
          "metadata": {
            "tags": []
          },
          "execution_count": 17
        }
      ]
    },
    {
      "cell_type": "code",
      "metadata": {
        "colab": {
          "base_uri": "https://localhost:8080/"
        },
        "id": "bUGnZU65qGr2",
        "outputId": "bb5231df-6a40-44f6-81a0-38f0ead7e273"
      },
      "source": [
        "def minutes_to_seconds(time):\n",
        "  # min, sec = time.split(\":\")\n",
        "  # return False if int(time[-2:]) >= 60 else int(min)*60 + int(sec)\n",
        "\n",
        "  m,s = map(int, time.split(\":\"))\n",
        "  return False if s >= 60 else m*60 + s\n",
        "\n",
        "minutes_to_seconds(\"01:00\") # 60\n",
        "minutes_to_seconds(\"13:56\") # 836\n",
        "minutes_to_seconds(\"10:60\") # False"
      ],
      "execution_count": null,
      "outputs": [
        {
          "output_type": "execute_result",
          "data": {
            "text/plain": [
              "False"
            ]
          },
          "metadata": {
            "tags": []
          },
          "execution_count": 48
        }
      ]
    },
    {
      "cell_type": "code",
      "metadata": {
        "colab": {
          "base_uri": "https://localhost:8080/"
        },
        "id": "j9iQttSrwfJ0",
        "outputId": "453ea46c-7e6a-4daa-a53a-7c1887a2c637"
      },
      "source": [
        "def is_anagram(s1, s2):\n",
        "  # for i in s1:\n",
        "  #   if i.lower() not in s2.lower() or len(s1) != len(s2):\n",
        "  #     return False \n",
        "  # return True\n",
        "  return sorted(s1.lower()) == sorted(s2.lower())\n",
        "\n",
        "is_anagram(\"cristian\", \"Cristina\") #True\n",
        "is_anagram(\"Dave Barry\", \"Ray Adverb\") #True\n",
        "is_anagram(\"Nope\", \"Note\") #False"
      ],
      "execution_count": null,
      "outputs": [
        {
          "output_type": "execute_result",
          "data": {
            "text/plain": [
              "True"
            ]
          },
          "metadata": {
            "tags": []
          },
          "execution_count": 68
        }
      ]
    },
    {
      "cell_type": "code",
      "metadata": {
        "colab": {
          "base_uri": "https://localhost:8080/"
        },
        "id": "S9muFyRMcBWo",
        "outputId": "700c7090-29ef-4f70-e6dd-4a7bcaeab516"
      },
      "source": [
        "def space_weights(planet_a, weight, planet_b):\n",
        "  planets = {\n",
        "      \"Mercury\":\t3.7,\n",
        "      \"Venus\":\t8.87,\n",
        "      \"Earth\":\t9.81,\n",
        "      \"Mars\":\t3.711,\n",
        "      \"Jupiter\":\t24.79,\n",
        "      \"Saturn\":\t10.44,\n",
        "      \"Uranus\":\t8.69,\n",
        "      \"Neptune\":\t11.15,\n",
        "  }\n",
        "  return round(planets[planet_b]/planets[planet_a]*weight, 2)\n",
        "\n",
        "space_weights(\"Earth\", 1, \"Mars\")\n",
        "space_weights(\"Jupiter\", 100, \"Mercury\")"
      ],
      "execution_count": null,
      "outputs": [
        {
          "output_type": "execute_result",
          "data": {
            "text/plain": [
              "14.93"
            ]
          },
          "metadata": {
            "tags": []
          },
          "execution_count": 10
        }
      ]
    },
    {
      "cell_type": "code",
      "metadata": {
        "colab": {
          "base_uri": "https://localhost:8080/"
        },
        "id": "LgxQKJZ0ZW0C",
        "outputId": "ed92a25f-653b-49d0-a00f-18f3860a508a"
      },
      "source": [
        "def remove_empty_arrays(arr):\n",
        "  return [x for x in arr if x != []]\n",
        "\n",
        "remove_empty_arrays([1, 2, [], 4, 0])"
      ],
      "execution_count": null,
      "outputs": [
        {
          "output_type": "execute_result",
          "data": {
            "text/plain": [
              "[1, 2, 4, 0]"
            ]
          },
          "metadata": {
            "tags": []
          },
          "execution_count": 16
        }
      ]
    },
    {
      "cell_type": "code",
      "metadata": {
        "colab": {
          "base_uri": "https://localhost:8080/"
        },
        "id": "UytwtxawfalX",
        "outputId": "6c6d3074-24d8-4275-9834-e21020d13b91"
      },
      "source": [
        "def parity_analysis(num):\n",
        "\t# return not (num%2 == 0) ^ (sum(map(int, str(num))) % 2 == 0) \n",
        "  return num%2 == sum(map(int, str(num)))%2\n",
        "\n",
        "\n",
        "parity_analysis(243)\n",
        "# 243 is odd and so is 9 (2 + 4 + 3)\n",
        "\n",
        "parity_analysis(12)\n",
        "# 12 is even but 3 is odd (1 + 2)"
      ],
      "execution_count": null,
      "outputs": [
        {
          "output_type": "execute_result",
          "data": {
            "text/plain": [
              "False"
            ]
          },
          "metadata": {
            "tags": []
          },
          "execution_count": 36
        }
      ]
    },
    {
      "cell_type": "code",
      "metadata": {
        "colab": {
          "base_uri": "https://localhost:8080/"
        },
        "id": "9Gmd4bRCiKIr",
        "outputId": "23f949ba-da9d-4d13-d9b3-3b7c77dea58b"
      },
      "source": [
        "def factor_chain(lst):\n",
        "  return all(lst[i] % lst[i-1] == 0 for i in range(1, len(lst)))\n",
        "\n",
        "factor_chain([1, 2, 4, 8, 16, 32]) # True\n",
        "factor_chain([1, 1, 1, 1, 1, 1]) # True\n",
        "factor_chain([2, 4, 6, 7, 12]) # False"
      ],
      "execution_count": null,
      "outputs": [
        {
          "output_type": "execute_result",
          "data": {
            "text/plain": [
              "True"
            ]
          },
          "metadata": {
            "tags": []
          },
          "execution_count": 44
        }
      ]
    },
    {
      "cell_type": "markdown",
      "metadata": {
        "id": "oXQl7uJRVeqD"
      },
      "source": [
        "# day 6"
      ]
    },
    {
      "cell_type": "code",
      "metadata": {
        "colab": {
          "base_uri": "https://localhost:8080/"
        },
        "id": "gkLoSDtTShjt",
        "outputId": "7df3d99c-675c-4304-d302-09d1507595d7"
      },
      "source": [
        "def damage(damage, speed, time):\n",
        "  # att_s = damage*speed\n",
        "  # return 'invalid' if damage<0 or speed<0 else att_s if time == \"second\" else att_s*60 if time == \"minute\" else att_s*3600\n",
        "\n",
        "  times = {\"second\": 1, \"minute\": 60, \"hour\": 3600}\n",
        "  dps = damage*speed*times[time]\n",
        "  return dps if damage > 0 and speed > 0 else 'invalid'\n",
        "\n",
        "damage(40, 5, \"second\") # 200\n",
        "damage(100, 1, \"minute\") # 6000\n",
        "damage(2, 100, \"hour\") # 720000"
      ],
      "execution_count": null,
      "outputs": [
        {
          "output_type": "execute_result",
          "data": {
            "text/plain": [
              "720000"
            ]
          },
          "metadata": {
            "tags": []
          },
          "execution_count": 33
        }
      ]
    },
    {
      "cell_type": "code",
      "metadata": {
        "colab": {
          "base_uri": "https://localhost:8080/",
          "height": 35
        },
        "id": "c91lIPmzQxxg",
        "outputId": "b6af5630-59ab-4d5a-d273-f727e8eb61fd"
      },
      "source": [
        "def binary(decimal):\n",
        "\treturn bin(decimal)[2:]\n",
        "\n",
        "binary(10)"
      ],
      "execution_count": null,
      "outputs": [
        {
          "output_type": "execute_result",
          "data": {
            "application/vnd.google.colaboratory.intrinsic+json": {
              "type": "string"
            },
            "text/plain": [
              "'1010'"
            ]
          },
          "metadata": {
            "tags": []
          },
          "execution_count": 30
        }
      ]
    },
    {
      "cell_type": "code",
      "metadata": {
        "colab": {
          "base_uri": "https://localhost:8080/"
        },
        "id": "lY8z2Q52MHoU",
        "outputId": "a6493e3e-0050-456e-d6c7-7f2b69e80e72"
      },
      "source": [
        "def move_to_end(lst, el):\n",
        "  # return [i for i in lst if i != el] + [i for i in lst if i == el]\n",
        "  return sorted(lst, key=lambda x: x is el)\n",
        "\n",
        "\n",
        "move_to_end([1, 3, 2, 4, 4, 1], 1)"
      ],
      "execution_count": null,
      "outputs": [
        {
          "output_type": "execute_result",
          "data": {
            "text/plain": [
              "[3, 2, 4, 4, 1, 1]"
            ]
          },
          "metadata": {
            "tags": []
          },
          "execution_count": 24
        }
      ]
    },
    {
      "cell_type": "code",
      "metadata": {
        "colab": {
          "base_uri": "https://localhost:8080/"
        },
        "id": "XGHYHDi3KaA-",
        "outputId": "8814d6c2-a314-47c5-aa3d-b99437257800"
      },
      "source": [
        "def is_vowel_sandwich(s):\n",
        "  # return len(s) == 3 and s[0] not in 'aiueo' and s[2] not in 'aiueo' and s[1] in 'aiueo'\n",
        "  \n",
        "  # return [1,0,1] == [1 if i not in 'aiueo' else 0 for i in s]\n",
        "\n",
        "  con = lambda x: x not in 'aiueo'\n",
        "  return len(s)==3 and con(s[0]) and not con(s[1]) and con(s[2])\n",
        "  \n",
        "\n",
        "is_vowel_sandwich(\"cat\") # True\n",
        "is_vowel_sandwich(\"ear\") # False\n",
        "is_vowel_sandwich(\"bake\") # False"
      ],
      "execution_count": null,
      "outputs": [
        {
          "output_type": "execute_result",
          "data": {
            "text/plain": [
              "False"
            ]
          },
          "metadata": {
            "tags": []
          },
          "execution_count": 19
        }
      ]
    },
    {
      "cell_type": "code",
      "metadata": {
        "colab": {
          "base_uri": "https://localhost:8080/"
        },
        "id": "iUnAeDLB31Nr",
        "outputId": "1bc35900-36a0-4285-8b17-83062ab7ee26"
      },
      "source": [
        "def trace(lst):\n",
        "  # summing = 0\n",
        "  # for i,vector in enumerate(lst):\n",
        "  #   summing += lst[i][i]\n",
        "  # return summing\n",
        "\n",
        "  return sum(lst[i][i] for i in range(len(lst)))\n",
        "\n",
        "trace([\n",
        "  [1, 2, 3],\n",
        "  [4, 5, 6],\n",
        "  [7, 8, 9]\n",
        "])"
      ],
      "execution_count": null,
      "outputs": [
        {
          "output_type": "execute_result",
          "data": {
            "text/plain": [
              "15"
            ]
          },
          "metadata": {
            "tags": []
          },
          "execution_count": 49
        }
      ]
    },
    {
      "cell_type": "code",
      "metadata": {
        "colab": {
          "base_uri": "https://localhost:8080/"
        },
        "id": "vy8z59W0yfST",
        "outputId": "ba0b836e-ee4a-4a90-c7c3-a1c95c91f3d2"
      },
      "source": [
        "def dict_to_list(d):\n",
        "\treturn sorted(d.items())\n",
        " \n",
        "dict_to_list({\n",
        "  \"D\": 1,\n",
        "  \"B\": 2,\n",
        "  \"C\": 3\n",
        "})"
      ],
      "execution_count": null,
      "outputs": [
        {
          "output_type": "execute_result",
          "data": {
            "text/plain": [
              "[('B', 2), ('C', 3), ('D', 1)]"
            ]
          },
          "metadata": {
            "tags": []
          },
          "execution_count": 41
        }
      ]
    },
    {
      "cell_type": "code",
      "metadata": {
        "colab": {
          "base_uri": "https://localhost:8080/"
        },
        "id": "0UD6JT2pwKs7",
        "outputId": "985cce61-af23-42ee-bfc5-35344826d8c9"
      },
      "source": [
        "def asc_des_none(lst, s):\n",
        "  return lst if s == 'None' else sorted(lst, reverse=(s=='Des'))\n",
        "  \n",
        "asc_des_none([4, 3, 2, 1], \"Asc\" ) # [1, 2, 3, 4]\n",
        "asc_des_none([7, 8, 11, 66], \"Des\") # [66, 11, 8, 7]\n",
        "asc_des_none([1, 2, 3, 4], \"None\") # [1, 2, 3, 4]"
      ],
      "execution_count": null,
      "outputs": [
        {
          "output_type": "execute_result",
          "data": {
            "text/plain": [
              "[1, 2, 3, 4]"
            ]
          },
          "metadata": {
            "tags": []
          },
          "execution_count": 19
        }
      ]
    },
    {
      "cell_type": "code",
      "metadata": {
        "colab": {
          "base_uri": "https://localhost:8080/",
          "height": 35
        },
        "id": "3QhAk4iOvgkA",
        "outputId": "b97ed729-8e5e-4ea9-d3b8-88339cba2579"
      },
      "source": [
        "def cap_to_front(s):\n",
        "  # lower = [i for i in s if i.islower()]\n",
        "  # upper = [i for i in s if i.isupper()]\n",
        "  # return ''.join(upper + lower)\n",
        "\n",
        "  return ''.join(sorted(s, key=str.islower))\n",
        "\n",
        "cap_to_front(\"hApPy\")"
      ],
      "execution_count": null,
      "outputs": [
        {
          "output_type": "execute_result",
          "data": {
            "application/vnd.google.colaboratory.intrinsic+json": {
              "type": "string"
            },
            "text/plain": [
              "'APhpy'"
            ]
          },
          "metadata": {
            "tags": []
          },
          "execution_count": 12
        }
      ]
    },
    {
      "cell_type": "markdown",
      "metadata": {
        "id": "bQvWkieVZi3o"
      },
      "source": [
        "# day 5"
      ]
    },
    {
      "cell_type": "code",
      "metadata": {
        "colab": {
          "base_uri": "https://localhost:8080/",
          "height": 35
        },
        "id": "FRcPErzMVQ6q",
        "outputId": "cc0a3cae-b5c7-4a74-9871-3edac8748c06"
      },
      "source": [
        "def correct_spacing(sentence):\n",
        "  return ' '.join(sentence.split())\n",
        "\n",
        "correct_spacing(\"The film   starts       at      midnight. \")"
      ],
      "execution_count": null,
      "outputs": [
        {
          "output_type": "execute_result",
          "data": {
            "application/vnd.google.colaboratory.intrinsic+json": {
              "type": "string"
            },
            "text/plain": [
              "'The film starts at midnight.'"
            ]
          },
          "metadata": {
            "tags": []
          },
          "execution_count": 104
        }
      ]
    },
    {
      "cell_type": "code",
      "metadata": {
        "colab": {
          "base_uri": "https://localhost:8080/",
          "height": 35
        },
        "id": "Rv62tZwmRZvh",
        "outputId": "7e4267e6-b930-4545-d14f-4a61aa8ce52e"
      },
      "source": [
        "def shhh(txt):\n",
        "  # if len(txt) == 0:\n",
        "  #   return '\\\"\", whispered Edabit.'\n",
        "  # txt = txt[0].upper() + txt[1:].lower()\n",
        "  # return '\\\"{}\", whispered Edabit.'.format(txt)\n",
        "\n",
        "  return '\\\"{}\", whispered Edabit.'.format(txt.capitalize())\n",
        "\n",
        "\n",
        "shhh(\"\") # '\"\", whispered Edabit.'\n",
        "shhh(\"HI THERE!\") # '\"Hi there!\", whispered Edabit.'"
      ],
      "execution_count": null,
      "outputs": [
        {
          "output_type": "execute_result",
          "data": {
            "application/vnd.google.colaboratory.intrinsic+json": {
              "type": "string"
            },
            "text/plain": [
              "'\"Hi there!\", whispered Edabit.'"
            ]
          },
          "metadata": {
            "tags": []
          },
          "execution_count": 97
        }
      ]
    },
    {
      "cell_type": "code",
      "metadata": {
        "colab": {
          "base_uri": "https://localhost:8080/"
        },
        "id": "Awv1bt-kPfXi",
        "outputId": "26b61076-d2d9-4c1b-ec84-ae9b35d44e07"
      },
      "source": [
        "def multiply_nums(nums):\n",
        "  # mul = 1\n",
        "  # for i in nums.split(','):\n",
        "  #   mul *= int(i)\n",
        "  # return mul\n",
        "  return eval(nums.replace(',', '*'))\n",
        "\n",
        "multiply_nums(\"3\")"
      ],
      "execution_count": null,
      "outputs": [
        {
          "output_type": "execute_result",
          "data": {
            "text/plain": [
              "3"
            ]
          },
          "metadata": {
            "tags": []
          },
          "execution_count": 86
        }
      ]
    },
    {
      "cell_type": "code",
      "metadata": {
        "colab": {
          "base_uri": "https://localhost:8080/"
        },
        "id": "H42JMhoLLkUY",
        "outputId": "660c0864-6daf-4139-9780-2ea61e36a5f4"
      },
      "source": [
        "def is_harshad(num):\n",
        "  try:\n",
        "    return not num % sum(int(i) for i in str(num))\n",
        "  except ZeroDivisionError:\n",
        "   return False\n",
        "\n",
        "is_harshad(209)"
      ],
      "execution_count": null,
      "outputs": [
        {
          "output_type": "execute_result",
          "data": {
            "text/plain": [
              "True"
            ]
          },
          "metadata": {
            "tags": []
          },
          "execution_count": 75
        }
      ]
    },
    {
      "cell_type": "code",
      "metadata": {
        "colab": {
          "base_uri": "https://localhost:8080/"
        },
        "id": "Ke1GbHvGLIYu",
        "outputId": "66c8af6e-3b58-4162-f712-6329a939ea88"
      },
      "source": [
        "def alphanumeric_restriction(s):\n",
        "\treturn any((s.isalpha(), s.isnumeric()))\n",
        "\n",
        "\n",
        "alphanumeric_restriction(\"Bold\")\n",
        "alphanumeric_restriction(\"ed@bit\")"
      ],
      "execution_count": null,
      "outputs": [
        {
          "output_type": "execute_result",
          "data": {
            "text/plain": [
              "False"
            ]
          },
          "metadata": {
            "tags": []
          },
          "execution_count": 57
        }
      ]
    },
    {
      "cell_type": "code",
      "metadata": {
        "colab": {
          "base_uri": "https://localhost:8080/"
        },
        "id": "6mYjvYfuIZ4B",
        "outputId": "ee69beb3-0561-4f7e-fb80-c5102f8297b6"
      },
      "source": [
        "def last(a, n):\n",
        "  # return 'invalid' if n > len(a) else [] if n == 0 else a[-n:]\n",
        "  return 'invalid' if n>len(a) else a[len(a)-n:]\n",
        "\n",
        "last([1, 2, 3, 4, 5], 1)\n",
        "last([4, 3, 9, 9, 7, 6], 3)\n",
        "last([1, 2, 3, 4, 5], 7)\n",
        "last([1, 2, 3, 4, 5], 0)"
      ],
      "execution_count": null,
      "outputs": [
        {
          "output_type": "execute_result",
          "data": {
            "text/plain": [
              "[]"
            ]
          },
          "metadata": {
            "tags": []
          },
          "execution_count": 47
        }
      ]
    },
    {
      "cell_type": "code",
      "metadata": {
        "colab": {
          "base_uri": "https://localhost:8080/",
          "height": 35
        },
        "id": "Ng3vGToLFhrC",
        "outputId": "c591eb1c-e905-4a52-aed2-2b83ddf390ff"
      },
      "source": [
        "def chatroom_status(users):\n",
        "  if not len(users):\n",
        "    return \"no one online\"\n",
        "  elif len(users) == 1:\n",
        "    return \"{} online\".format(users[0])\n",
        "  elif len(users) == 2:\n",
        "    return \"{} and {} online\".format(users[0], users[1])\n",
        "  else:\n",
        "    return \"{}, {} and {} more online\".format(users[0], users[1], len(users)-2)\n",
        "\n",
        "chatroom_status([\"pap_ier44\", \"townieBOY\", \"panda321\", \"motor_bike5\", \"sandwichmaker833\", \"violinist91\"])"
      ],
      "execution_count": null,
      "outputs": [
        {
          "output_type": "execute_result",
          "data": {
            "application/vnd.google.colaboratory.intrinsic+json": {
              "type": "string"
            },
            "text/plain": [
              "'pap_ier44, townieBOY and 4 more online'"
            ]
          },
          "metadata": {
            "tags": []
          },
          "execution_count": 33
        }
      ]
    },
    {
      "cell_type": "code",
      "metadata": {
        "colab": {
          "base_uri": "https://localhost:8080/"
        },
        "id": "KM1CADW1BFxc",
        "outputId": "5a6cec57-be9e-4fc4-fa7c-387363ee45c4"
      },
      "source": [
        "def square_digits(n):\n",
        "  # st = ''\n",
        "  # for i in str(n):\n",
        "  #   st += str(int(i)**2)\n",
        "  # return int(st)\n",
        "  return int(''.join(str(int(i)**2) for i in str(n)))\n",
        "\n",
        "square_digits(9119)"
      ],
      "execution_count": null,
      "outputs": [
        {
          "output_type": "execute_result",
          "data": {
            "text/plain": [
              "811181"
            ]
          },
          "metadata": {
            "tags": []
          },
          "execution_count": 26
        }
      ]
    },
    {
      "cell_type": "markdown",
      "metadata": {
        "id": "eRLSND3rI-iX"
      },
      "source": [
        "# day 4"
      ]
    },
    {
      "cell_type": "code",
      "metadata": {
        "colab": {
          "base_uri": "https://localhost:8080/",
          "height": 35
        },
        "id": "Bm_iIdb4GxT_",
        "outputId": "775807b1-4d13-4fa3-bef8-eb84825f2214"
      },
      "source": [
        "def vow_replace(word, vowel):\n",
        "  # return ''.join([i if i not in 'aiueo' else vowel for i in word])\n",
        "  return ''.join(vowel if i in 'aiueo' else i for i in word)\n",
        "\n",
        "vow_replace(\"apples and bananas\", \"u\")"
      ],
      "execution_count": null,
      "outputs": [
        {
          "output_type": "execute_result",
          "data": {
            "application/vnd.google.colaboratory.intrinsic+json": {
              "type": "string"
            },
            "text/plain": [
              "'upplus und bununus'"
            ]
          },
          "metadata": {
            "tags": []
          },
          "execution_count": 34
        }
      ]
    },
    {
      "cell_type": "code",
      "metadata": {
        "colab": {
          "base_uri": "https://localhost:8080/"
        },
        "id": "cqR7SYWZFcbe",
        "outputId": "8735b24e-84e8-41f1-a5cd-cd2d1dc3d728"
      },
      "source": [
        "def amplify(num):\n",
        "  return [i*10 if not i%4 else i for i in range(1, num+1)]\n",
        "\n",
        "amplify(4)"
      ],
      "execution_count": null,
      "outputs": [
        {
          "output_type": "execute_result",
          "data": {
            "text/plain": [
              "[1, 2, 3, 40]"
            ]
          },
          "metadata": {
            "tags": []
          },
          "execution_count": 27
        }
      ]
    },
    {
      "cell_type": "code",
      "metadata": {
        "colab": {
          "base_uri": "https://localhost:8080/"
        },
        "id": "K-fVRjIY_BNp",
        "outputId": "b17b1d8e-65de-499e-83b0-ef0a4cc2acdc"
      },
      "source": [
        "def unique(lst):\n",
        "  # count_list = [lst.count(i) for i in lst]\n",
        "  # unique_id = count_list.index(min(count_list))\n",
        "  # return lst[unique_id]\n",
        "\n",
        "  # return [i for i in lst if lst.count(i) == 1][0]\n",
        "\n",
        "  return min(set(lst), key=lst.count)\n",
        "\n",
        "\n",
        "unique([0, 1, 1, 1, 1, 1, 1, 1])"
      ],
      "execution_count": null,
      "outputs": [
        {
          "output_type": "execute_result",
          "data": {
            "text/plain": [
              "0"
            ]
          },
          "metadata": {
            "tags": []
          },
          "execution_count": 22
        }
      ]
    },
    {
      "cell_type": "code",
      "metadata": {
        "colab": {
          "base_uri": "https://localhost:8080/"
        },
        "id": "qervjTVf7scD",
        "outputId": "98e2c81f-54fa-4dfb-d35e-dc39231082c0"
      },
      "source": [
        "def steps_to_convert(txt):\n",
        "  # score = [0, 0]\n",
        "  # for i in txt:\n",
        "  #   if i.islower():\n",
        "  #     score[0] += 1\n",
        "  #   else:\n",
        "  #     score[1] += 1\n",
        "  # return min(score)\n",
        "\n",
        "  lower = len([i for i in txt if i.islower()])\n",
        "  upper = len([i for i in txt if i.isupper()])\n",
        "  return min(lower, upper)\n",
        "\n",
        "steps_to_convert(\"abCBA\")"
      ],
      "execution_count": null,
      "outputs": [
        {
          "output_type": "execute_result",
          "data": {
            "text/plain": [
              "2"
            ]
          },
          "metadata": {
            "tags": []
          },
          "execution_count": 7
        }
      ]
    },
    {
      "cell_type": "code",
      "metadata": {
        "colab": {
          "base_uri": "https://localhost:8080/"
        },
        "id": "u5vY0rp9Fgif",
        "outputId": "a0f42c0f-0aba-4d94-d591-0caa6737f3cf"
      },
      "source": [
        "def is_automorphic(n):\n",
        "\t# return n == int(str(n**2)[-(len(str(n))):])\n",
        "  return str(n*n).endswith(str(n))\n",
        "\n",
        "is_automorphic(76)"
      ],
      "execution_count": null,
      "outputs": [
        {
          "output_type": "execute_result",
          "data": {
            "text/plain": [
              "True"
            ]
          },
          "metadata": {
            "tags": []
          },
          "execution_count": 64
        }
      ]
    },
    {
      "cell_type": "code",
      "metadata": {
        "colab": {
          "base_uri": "https://localhost:8080/",
          "height": 35
        },
        "id": "boDrMxfQ_XUp",
        "outputId": "15b8302e-a7c0-49fe-fc5a-10ea4285f06c"
      },
      "source": [
        "def greet_people(names):\n",
        "  return ', '.join('Hello ' + name for name in names)\n",
        "\n",
        "greet_people([\"Frank\", \"Angela\", \"Joe\"])"
      ],
      "execution_count": null,
      "outputs": [
        {
          "output_type": "execute_result",
          "data": {
            "application/vnd.google.colaboratory.intrinsic+json": {
              "type": "string"
            },
            "text/plain": [
              "'Hello Frank, Hello Angela, Hello Joe'"
            ]
          },
          "metadata": {
            "tags": []
          },
          "execution_count": 48
        }
      ]
    },
    {
      "cell_type": "code",
      "metadata": {
        "colab": {
          "base_uri": "https://localhost:8080/",
          "height": 35
        },
        "id": "1IbHN15W9Ytt",
        "outputId": "63526f4a-f1c6-4105-84fc-350568dc6708"
      },
      "source": [
        "def convert_binary(string):\n",
        "  # zeros = 'abcdefghijklmABCDEFGHIJKLM'\n",
        "  # return ''.join('0' if i in zeros else '1' for i in string)\n",
        "  return ''.join(str(int(x > 'm')) for x in string.lower())\n",
        "\n",
        "convert_binary(\"house\")"
      ],
      "execution_count": null,
      "outputs": [
        {
          "output_type": "execute_result",
          "data": {
            "application/vnd.google.colaboratory.intrinsic+json": {
              "type": "string"
            },
            "text/plain": [
              "'01110'"
            ]
          },
          "metadata": {
            "tags": []
          },
          "execution_count": 36
        }
      ]
    },
    {
      "cell_type": "code",
      "metadata": {
        "colab": {
          "base_uri": "https://localhost:8080/"
        },
        "id": "953i7v4CZS8q",
        "outputId": "580d2ae7-a4ce-4bdc-f30d-805a66938c4b"
      },
      "source": [
        "def first_arg(*args):\n",
        "  # try:\n",
        "  #   return args[0]\n",
        "  # except:\n",
        "  #   return None\n",
        "  return args[0] if args else None\n",
        "\n",
        "def last_arg(*args):\n",
        "  try:\n",
        "    return args[-1]\n",
        "  except:\n",
        "    return None\n",
        "\n",
        "\n",
        "print(first_arg(), last_arg(1,2,3))"
      ],
      "execution_count": null,
      "outputs": [
        {
          "output_type": "stream",
          "text": [
            "None 3\n"
          ],
          "name": "stdout"
        }
      ]
    },
    {
      "cell_type": "markdown",
      "metadata": {
        "id": "qTLaRuXsvQUP"
      },
      "source": [
        "# Day 3"
      ]
    },
    {
      "cell_type": "code",
      "metadata": {
        "colab": {
          "base_uri": "https://localhost:8080/",
          "height": 35
        },
        "id": "q8vCUytVXYOi",
        "outputId": "75c43fe6-14d2-461a-8c14-2b6ba28d85fe"
      },
      "source": [
        "def ascii_capitalize(txt):\n",
        "  return ''.join(i.lower() if ord(i)%2 else i.upper() for i in txt)\n",
        "\n",
        "ascii_capitalize(\"to be or not to be!\")  #\"To Be oR NoT To Be!\""
      ],
      "execution_count": null,
      "outputs": [
        {
          "output_type": "execute_result",
          "data": {
            "application/vnd.google.colaboratory.intrinsic+json": {
              "type": "string"
            },
            "text/plain": [
              "'To Be oR NoT To Be!'"
            ]
          },
          "metadata": {
            "tags": []
          },
          "execution_count": 18
        }
      ]
    },
    {
      "cell_type": "code",
      "metadata": {
        "colab": {
          "base_uri": "https://localhost:8080/",
          "height": 35
        },
        "id": "aI3UCBeYWVSU",
        "outputId": "660a6c9e-890f-4de6-cae4-6d2778dbe92c"
      },
      "source": [
        "def reverse(txt):\n",
        "  # return ''.join([i.upper() if i.islower() else i.lower() for i in txt])[::-1]\n",
        "  return txt[::-1].swapcase()\n",
        "\n",
        "reverse(\"Hello World\")"
      ],
      "execution_count": null,
      "outputs": [
        {
          "output_type": "execute_result",
          "data": {
            "application/vnd.google.colaboratory.intrinsic+json": {
              "type": "string"
            },
            "text/plain": [
              "'DLROw OLLEh'"
            ]
          },
          "metadata": {
            "tags": []
          },
          "execution_count": 14
        }
      ]
    },
    {
      "cell_type": "code",
      "metadata": {
        "colab": {
          "base_uri": "https://localhost:8080/"
        },
        "id": "dLdoDNDiTwip",
        "outputId": "554bcf51-abbc-4945-e5d8-6e5f0de09ac9"
      },
      "source": [
        "def convert_cartesian(x, y):\n",
        "\t# return [[x[i], y[i]] for i in range(len(x))]\n",
        "  # return list(map(list, zip(x,y)))\n",
        "  return [list(a) for a in zip(x,y)]\n",
        "\n",
        "convert_cartesian([1, 5, 3, 3, 4], [5, 8, 9, 1, 0]) "
      ],
      "execution_count": null,
      "outputs": [
        {
          "output_type": "execute_result",
          "data": {
            "text/plain": [
              "[[1, 5], [5, 8], [3, 9], [3, 1], [4, 0]]"
            ]
          },
          "metadata": {
            "tags": []
          },
          "execution_count": 9
        }
      ]
    },
    {
      "cell_type": "code",
      "metadata": {
        "colab": {
          "base_uri": "https://localhost:8080/"
        },
        "id": "E6J41aifTFo-",
        "outputId": "3d62ac3c-9876-4481-8773-e6c5e3c2da80"
      },
      "source": [
        "def list_operation(x, y, n):\n",
        "\treturn [i for i in range(x, y+1) if i % n == 0]\n",
        "\n",
        "list_operation(1, 10, 3)"
      ],
      "execution_count": null,
      "outputs": [
        {
          "output_type": "execute_result",
          "data": {
            "text/plain": [
              "[3, 6, 9]"
            ]
          },
          "metadata": {
            "tags": []
          },
          "execution_count": 2
        }
      ]
    },
    {
      "cell_type": "code",
      "metadata": {
        "colab": {
          "base_uri": "https://localhost:8080/"
        },
        "id": "63PLSaQszal1",
        "outputId": "d656068c-44ec-45b1-fb91-ea3e1c7d7f34"
      },
      "source": [
        "import copy\n",
        "\n",
        "def clone(lst):\n",
        "\t# lst.append([*lst])\n",
        "  # lst.append(lst[:])\n",
        "  # lst.append(list(lst))\n",
        "  # lst.append(copy.copy(lst))\n",
        "  lst.append(copy.deepcopy(lst))\n",
        "  return lst\n",
        "\n",
        "clone([1, 1])"
      ],
      "execution_count": null,
      "outputs": [
        {
          "output_type": "execute_result",
          "data": {
            "text/plain": [
              "[1, 1, [1, 1]]"
            ]
          },
          "metadata": {
            "tags": []
          },
          "execution_count": 22
        }
      ]
    },
    {
      "cell_type": "code",
      "metadata": {
        "colab": {
          "base_uri": "https://localhost:8080/"
        },
        "id": "YS51jE2iyu5C",
        "outputId": "1b870987-6572-459f-866d-01ed5bd34956"
      },
      "source": [
        "def color_invert(rgb):\n",
        "  return tuple(abs(i-255) for i in rgb)\n",
        "\n",
        "color_invert((0, 0, 0))"
      ],
      "execution_count": null,
      "outputs": [
        {
          "output_type": "execute_result",
          "data": {
            "text/plain": [
              "(255, 255, 255)"
            ]
          },
          "metadata": {
            "tags": []
          },
          "execution_count": 14
        }
      ]
    },
    {
      "cell_type": "code",
      "metadata": {
        "colab": {
          "base_uri": "https://localhost:8080/"
        },
        "id": "QS8Hl45mvNfs",
        "outputId": "3afd706c-c49a-4f8a-949d-634689f99d28"
      },
      "source": [
        "def halve_count(a, b):\n",
        "  count = 0\n",
        "  a = a/2\n",
        "  while a > b:\n",
        "    a /= 2\n",
        "    count += 1\n",
        "  return count\n",
        "\n",
        "halve_count(1324, 98)\n",
        "# (1324 -> 662 -> 331 -> 165.5)"
      ],
      "execution_count": null,
      "outputs": [
        {
          "output_type": "execute_result",
          "data": {
            "text/plain": [
              "3"
            ]
          },
          "metadata": {
            "tags": []
          },
          "execution_count": 10
        }
      ]
    },
    {
      "cell_type": "code",
      "metadata": {
        "colab": {
          "base_uri": "https://localhost:8080/"
        },
        "id": "ELOgm5QbvP0E",
        "outputId": "05b405fb-0224-4244-d164-457d4bd2e3e6"
      },
      "source": [
        "def sum_of_two(a, b, v):\n",
        "  return any(i+j == v for i in a for j in b)\n",
        "\n",
        "sum_of_two([1, 2], [4, 5, 6], 5)"
      ],
      "execution_count": null,
      "outputs": [
        {
          "output_type": "execute_result",
          "data": {
            "text/plain": [
              "True"
            ]
          },
          "metadata": {
            "tags": []
          },
          "execution_count": 5
        }
      ]
    },
    {
      "cell_type": "markdown",
      "metadata": {
        "id": "Y4YYAhlMoL97"
      },
      "source": [
        "# Day 2"
      ]
    },
    {
      "cell_type": "code",
      "metadata": {
        "colab": {
          "base_uri": "https://localhost:8080/"
        },
        "id": "GUxnwg8wm0rk",
        "outputId": "68fb9ea9-7840-4bb7-8a23-c825450ac620"
      },
      "source": [
        "def convert_to_decimal(perc):\n",
        "  return [float(i[:-1])/100 for i in perc]\n",
        "\n",
        "convert_to_decimal([\"33%\", \"98.1%\", \"56.44%\", \"100%\"])"
      ],
      "execution_count": null,
      "outputs": [
        {
          "output_type": "execute_result",
          "data": {
            "text/plain": [
              "[0.33, 0.981, 0.5644, 1.0]"
            ]
          },
          "metadata": {
            "tags": []
          },
          "execution_count": 71
        }
      ]
    },
    {
      "cell_type": "code",
      "metadata": {
        "colab": {
          "base_uri": "https://localhost:8080/"
        },
        "id": "kRAkHZ9GjOhg",
        "outputId": "e0adf01d-3724-4fe8-845b-16bba962a70e"
      },
      "source": [
        "def is_subset(lst1, lst2):\n",
        "\t# for i in lst1:\n",
        "\t# \tif i not in lst2:\n",
        "\t# \t\treturn False\n",
        "\t# return True\n",
        "\n",
        "  # return set(lst1) <= set(lst2)\n",
        "\n",
        "  return all(i in lst2 for i in lst1)\n",
        "\n",
        "\n",
        "is_subset([3, 2, 5], [5, 3, 7, 9, 2])\n",
        "is_subset([1, 2], [3, 5, 9, 1])"
      ],
      "execution_count": null,
      "outputs": [
        {
          "output_type": "execute_result",
          "data": {
            "text/plain": [
              "False"
            ]
          },
          "metadata": {
            "tags": []
          },
          "execution_count": 63
        }
      ]
    },
    {
      "cell_type": "code",
      "metadata": {
        "colab": {
          "base_uri": "https://localhost:8080/"
        },
        "id": "yMFAns3Mhd1w",
        "outputId": "60ea109c-7925-4406-af9e-037786402055"
      },
      "source": [
        "import re\n",
        "\n",
        "def has_digit(txt):\n",
        "  # for i in txt:\n",
        "  #   if i.isdigit():\n",
        "  #     return True\n",
        "  # return False\n",
        "  return bool(re.search('\\d', txt))\n",
        "\n",
        "\n",
        "has_digit(\"abwekz\")\n",
        "has_digit(\"c8\")"
      ],
      "execution_count": null,
      "outputs": [
        {
          "output_type": "execute_result",
          "data": {
            "text/plain": [
              "True"
            ]
          },
          "metadata": {
            "tags": []
          },
          "execution_count": 36
        }
      ]
    },
    {
      "cell_type": "code",
      "metadata": {
        "colab": {
          "base_uri": "https://localhost:8080/",
          "height": 35
        },
        "id": "jO4c__kkcnMj",
        "outputId": "ef566833-00be-4a93-b05d-3b7f1da6b52f"
      },
      "source": [
        "def letters_only(txt):\n",
        "\t# letters = 'abcdefghijklmnopqrstuvwxyzABCDEFGHIJKLMNOPQRSTUVWXYZ'\n",
        "\t# return ''.join([i for i in txt if i in letters])\n",
        "  return ''.join([i for i in txt if i.isalpha()])\n",
        "\n",
        "letters_only(\"^,]%4B|@56a![0{2m>b1&4i4\")"
      ],
      "execution_count": null,
      "outputs": [
        {
          "output_type": "execute_result",
          "data": {
            "application/vnd.google.colaboratory.intrinsic+json": {
              "type": "string"
            },
            "text/plain": [
              "'Bambi'"
            ]
          },
          "metadata": {
            "tags": []
          },
          "execution_count": 28
        }
      ]
    },
    {
      "cell_type": "code",
      "metadata": {
        "colab": {
          "base_uri": "https://localhost:8080/",
          "height": 35
        },
        "id": "N8_goxqWZ0bi",
        "outputId": "4fefc8c5-b196-41ae-d2c5-7dc5160f59ea"
      },
      "source": [
        "class Person:\n",
        "  def __init__(self, name, age):\n",
        "    self.name = name\n",
        "    self.age = age\n",
        "    \n",
        "  def compare_age(self, other):\n",
        "    if self.age > other.age:\n",
        "      return \"{} is younger than me.\".format(other.name)\n",
        "    elif self.age < other.age:\n",
        "      return \"{} is older than me.\".format(other.name)\n",
        "    else:\n",
        "      return \"{} is the same age as me.\".format(other.name)\n",
        "      \n",
        "\t\t\n",
        "\n",
        "p1 = Person(\"Samuel\", 24)\n",
        "p2 = Person(\"Joel\", 36)\n",
        "p3 = Person(\"Lily\", 24)\n",
        "\n",
        "p1.compare_age(p2)"
      ],
      "execution_count": null,
      "outputs": [
        {
          "output_type": "execute_result",
          "data": {
            "application/vnd.google.colaboratory.intrinsic+json": {
              "type": "string"
            },
            "text/plain": [
              "'Joel is older than me.'"
            ]
          },
          "metadata": {
            "tags": []
          },
          "execution_count": 17
        }
      ]
    },
    {
      "cell_type": "code",
      "metadata": {
        "colab": {
          "base_uri": "https://localhost:8080/"
        },
        "id": "TnzqXvYAYexc",
        "outputId": "93891d2d-f5d5-4507-9768-3cc61ffbc0cd"
      },
      "source": [
        "def get_budgets(lst):\n",
        "  return sum(i['budget'] for i in lst)\n",
        "\t\n",
        "\n",
        "get_budgets([\n",
        "  { \"name\": \"John\", \"age\": 21, \"budget\": 23000 },\n",
        "  { \"name\": \"Steve\",  \"age\": 32, \"budget\": 40000 },\n",
        "  { \"name\": \"Martin\",  \"age\": 16, \"budget\": 2700 }\n",
        "])"
      ],
      "execution_count": null,
      "outputs": [
        {
          "output_type": "execute_result",
          "data": {
            "text/plain": [
              "65700"
            ]
          },
          "metadata": {
            "tags": []
          },
          "execution_count": 10
        }
      ]
    },
    {
      "cell_type": "code",
      "metadata": {
        "colab": {
          "base_uri": "https://localhost:8080/",
          "height": 35
        },
        "id": "83-7sVhZVVjv",
        "outputId": "59a7b519-fd84-4b45-8d75-ecf51e177df5"
      },
      "source": [
        "def replace_vowels(txt, ch):\n",
        "\n",
        "\t# vowels = 'aiueo'\n",
        "\t# new_str = ''\n",
        "\t# for i in txt:\n",
        "\t# \tif i in vowels:\n",
        "\t# \t\tnew_str += ch\n",
        "\t# \telse:\n",
        "\t# \t\tnew_str += i\n",
        "\t# return new_str\n",
        "  return ''.join([i if i not in 'aiueo' else ch for i in txt])\n",
        "\t\t\t\n",
        "replace_vowels(\"the aardvark\", \"#\")"
      ],
      "execution_count": null,
      "outputs": [
        {
          "output_type": "execute_result",
          "data": {
            "application/vnd.google.colaboratory.intrinsic+json": {
              "type": "string"
            },
            "text/plain": [
              "'th# ##rdv#rk'"
            ]
          },
          "metadata": {
            "tags": []
          },
          "execution_count": 7
        }
      ]
    },
    {
      "cell_type": "code",
      "metadata": {
        "colab": {
          "base_uri": "https://localhost:8080/"
        },
        "id": "afeDfLiPTc9G",
        "outputId": "38340268-5eee-42c9-a269-1763b6aae974"
      },
      "source": [
        "def sum_of_evens(lst):\n",
        "\treturn sum(i for vector in lst for i in vector if i % 2 == 0)\n",
        "\t\t\t\n",
        "sum_of_evens([\n",
        "  [1, 0, 2],\n",
        "  [5, 5, 7],\n",
        "  [9, 4, 3]\n",
        "])"
      ],
      "execution_count": null,
      "outputs": [
        {
          "output_type": "execute_result",
          "data": {
            "text/plain": [
              "6"
            ]
          },
          "metadata": {
            "tags": []
          },
          "execution_count": 4
        }
      ]
    },
    {
      "cell_type": "markdown",
      "metadata": {
        "id": "GW3LLVOeVbfS"
      },
      "source": [
        "# Day 1"
      ]
    },
    {
      "cell_type": "code",
      "metadata": {
        "colab": {
          "base_uri": "https://localhost:8080/"
        },
        "id": "_kd3Jn0f0hrn",
        "outputId": "6e75aae6-711c-4408-9033-c0a465ea314d"
      },
      "source": [
        "def mean(num):\n",
        "  num = str(num)\n",
        "  return int(sum(int(i) for i in num) / len(num))\n",
        "\n",
        "mean(12345)"
      ],
      "execution_count": null,
      "outputs": [
        {
          "output_type": "execute_result",
          "data": {
            "text/plain": [
              "3"
            ]
          },
          "metadata": {
            "tags": []
          },
          "execution_count": 34
        }
      ]
    },
    {
      "cell_type": "code",
      "metadata": {
        "colab": {
          "base_uri": "https://localhost:8080/"
        },
        "id": "__9ehgK0zMul",
        "outputId": "15bb2e82-9316-45c0-8ac9-193288175438"
      },
      "source": [
        "def how_many_times(msg):\n",
        "\tabj = \"abcdefghijklmnopqrstuvwxyz\"\n",
        "\tcount = 0\n",
        "\tfor ab in msg:\n",
        "\t\tcount += abj.find(ab) + 1\n",
        "\treturn count\n",
        "\n",
        "how_many_times(\"qudusayo\")"
      ],
      "execution_count": null,
      "outputs": [
        {
          "output_type": "execute_result",
          "data": {
            "text/plain": [
              "123"
            ]
          },
          "metadata": {
            "tags": []
          },
          "execution_count": 29
        }
      ]
    },
    {
      "cell_type": "code",
      "metadata": {
        "colab": {
          "base_uri": "https://localhost:8080/"
        },
        "id": "U3213naBxwzR",
        "outputId": "5ddbf4f3-4175-4077-cf66-1b2c8b592506"
      },
      "source": [
        "from collections import OrderedDict\n",
        "\n",
        "def setify(lst):\n",
        "\treturn list(OrderedDict.fromkeys(lst))\n",
        " \n",
        "setify([1, 3, 3, 5, 5])"
      ],
      "execution_count": null,
      "outputs": [
        {
          "output_type": "execute_result",
          "data": {
            "text/plain": [
              "[1, 3, 5]"
            ]
          },
          "metadata": {
            "tags": []
          },
          "execution_count": 21
        }
      ]
    },
    {
      "cell_type": "code",
      "metadata": {
        "colab": {
          "base_uri": "https://localhost:8080/"
        },
        "id": "4J1WcMkItoy0",
        "outputId": "fbd0178e-eb0c-4875-b02f-89746eb6796f"
      },
      "source": [
        "def remove_enemies(names, enemies):\n",
        "  new_names = []\n",
        "  for name in names:\n",
        "    if name not in new_names:\n",
        "      new_names.append(name)\n",
        "  \n",
        "  for enemy in enemies:\n",
        "    if enemy in new_names:\n",
        "      new_names.remove(enemy)\n",
        "\n",
        "  return new_names\n",
        "\n",
        "remove_enemies([\"John\", \"Skye\", \"Alexander\", \"Skye\", \"Tony\"], [\"Skye\", \"John\"])"
      ],
      "execution_count": null,
      "outputs": [
        {
          "output_type": "execute_result",
          "data": {
            "text/plain": [
              "['Alexander', 'Tony']"
            ]
          },
          "metadata": {
            "tags": []
          },
          "execution_count": 15
        }
      ]
    },
    {
      "cell_type": "code",
      "metadata": {
        "colab": {
          "base_uri": "https://localhost:8080/"
        },
        "id": "yZRvAiljrSOY",
        "outputId": "6a7cba4b-6533-4d9d-9a16-c86c78a417ae"
      },
      "source": [
        "def maurice_wins(m_snails, s_snails):\n",
        "\treturn m_snails[1] > s_snails[0] and m_snails[2] > s_snails[1]\n",
        "\n",
        "maurice_wins([6, 8, 9], [7, 12, 14])"
      ],
      "execution_count": null,
      "outputs": [
        {
          "output_type": "execute_result",
          "data": {
            "text/plain": [
              "False"
            ]
          },
          "metadata": {
            "tags": []
          },
          "execution_count": 5
        }
      ]
    },
    {
      "cell_type": "code",
      "metadata": {
        "colab": {
          "base_uri": "https://localhost:8080/"
        },
        "id": "zCMXbaIkqzSI",
        "outputId": "8dd1b417-e134-4110-b9b8-52c264eb173d"
      },
      "source": [
        "def add_indexes(lst):\n",
        "\treturn [i+j for i,j in enumerate(lst)]\n",
        "\n",
        "add_indexes([1, 2, 3, 4, 5])"
      ],
      "execution_count": null,
      "outputs": [
        {
          "output_type": "execute_result",
          "data": {
            "text/plain": [
              "[1, 3, 5, 7, 9]"
            ]
          },
          "metadata": {
            "tags": []
          },
          "execution_count": 3
        }
      ]
    },
    {
      "cell_type": "code",
      "metadata": {
        "colab": {
          "base_uri": "https://localhost:8080/"
        },
        "id": "RuZIZHpvsabq",
        "outputId": "4da3a8a0-bea2-4776-9c1e-cc2c2eb95c53"
      },
      "source": [
        "def index_multiplier(lst):\n",
        "\treturn sum(i*j for i,j in enumerate(lst))\n",
        " \n",
        "index_multiplier([1,2,3,4,5])"
      ],
      "execution_count": null,
      "outputs": [
        {
          "output_type": "execute_result",
          "data": {
            "text/plain": [
              "40"
            ]
          },
          "metadata": {
            "tags": []
          },
          "execution_count": 1
        }
      ]
    },
    {
      "cell_type": "code",
      "metadata": {
        "colab": {
          "base_uri": "https://localhost:8080/"
        },
        "id": "sqPvgyL-sBO_",
        "outputId": "605a9d2a-69e5-4037-cc50-2beeb914cc43"
      },
      "source": [
        "def sort_by_length(lst):\n",
        "  leng = [len(i) for i in lst]\n",
        "  sort_leng = sorted(leng)\n",
        "  new_lst = []\n",
        "  for num in sort_leng:\n",
        "    if num in leng:\n",
        "      id = leng.index(num)\n",
        "      new_lst.append(lst[id])\n",
        "\n",
        "  return new_lst\n",
        "\n",
        "sort_by_length([\"Google\", \"Apple\", \"Microsoft\"])"
      ],
      "execution_count": null,
      "outputs": [
        {
          "output_type": "execute_result",
          "data": {
            "text/plain": [
              "['Apple', 'Google', 'Microsoft']"
            ]
          },
          "metadata": {
            "tags": []
          },
          "execution_count": 2
        }
      ]
    }
  ]
}