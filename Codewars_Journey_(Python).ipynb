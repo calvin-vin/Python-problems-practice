{
  "nbformat": 4,
  "nbformat_minor": 0,
  "metadata": {
    "colab": {
      "name": "Codewars Journey (Python).ipynb",
      "provenance": [],
      "collapsed_sections": [],
      "authorship_tag": "ABX9TyMsWAT1OJCCM5jGO152oRsa",
      "include_colab_link": true
    },
    "kernelspec": {
      "name": "python3",
      "display_name": "Python 3"
    }
  },
  "cells": [
    {
      "cell_type": "markdown",
      "metadata": {
        "id": "view-in-github",
        "colab_type": "text"
      },
      "source": [
        "<a href=\"https://colab.research.google.com/github/calvin-vin/Python-problems-practice/blob/main/Codewars_Journey_(Python).ipynb\" target=\"_parent\"><img src=\"https://colab.research.google.com/assets/colab-badge.svg\" alt=\"Open In Colab\"/></a>"
      ]
    },
    {
      "cell_type": "code",
      "metadata": {
        "colab": {
          "base_uri": "https://localhost:8080/"
        },
        "id": "pOGvN5dgtnum",
        "outputId": "c76c365a-1e0c-42b5-92bb-b00ef8f36fd7"
      },
      "source": [
        "def solve(arr):\n",
        "    alp = 'abcdefghijklmnopqrstuvwxyz'\n",
        "    return [len([char  for char,chars in zip(strng.lower(), alp) if chars == char]) for strng in arr ]\n",
        "\n",
        "solve([\"abode\",\"ABc\",\"xyzD\"]) # [4,3,1]"
      ],
      "execution_count": null,
      "outputs": [
        {
          "output_type": "execute_result",
          "data": {
            "text/plain": [
              "[4, 3, 1]"
            ]
          },
          "metadata": {
            "tags": []
          },
          "execution_count": 25
        }
      ]
    },
    {
      "cell_type": "code",
      "metadata": {
        "colab": {
          "base_uri": "https://localhost:8080/"
        },
        "id": "4PJmJTh2kh0i",
        "outputId": "d35b6012-b684-4048-8a67-b50d34b1d31f"
      },
      "source": [
        "def not_visible_cubes(n):\n",
        "  if(n == 1):\n",
        "    return 0\n",
        "  factors = [i for i in range(2, n**3) if n**3 % i == 0]\n",
        "  n_small_cube = max(n**3 / factor**3 for factor in factors)\n",
        "\n",
        "  return int(n_small_cube)\n",
        "\n",
        "not_visible_cubes(6)\n",
        "\n",
        "\n",
        "not_visible_cubes(6)"
      ],
      "execution_count": null,
      "outputs": [
        {
          "output_type": "execute_result",
          "data": {
            "text/plain": [
              "64"
            ]
          },
          "metadata": {
            "tags": []
          },
          "execution_count": 13
        }
      ]
    },
    {
      "cell_type": "code",
      "metadata": {
        "colab": {
          "base_uri": "https://localhost:8080/"
        },
        "id": "mat4OAGDpgUg",
        "outputId": "581b1678-d78a-4857-ba79-23a20dc07186"
      },
      "source": [
        "def small_enough(array, limit):\n",
        "  return all(n <= limit for n in array)\n",
        "    \n",
        "\n",
        "small_enough([78, 33, 22, 44, 88, 9, 6] ,87)"
      ],
      "execution_count": null,
      "outputs": [
        {
          "output_type": "execute_result",
          "data": {
            "text/plain": [
              "False"
            ]
          },
          "metadata": {
            "tags": []
          },
          "execution_count": 3
        }
      ]
    },
    {
      "cell_type": "code",
      "metadata": {
        "id": "noRU-19TPvxG",
        "colab": {
          "base_uri": "https://localhost:8080/",
          "height": 35
        },
        "outputId": "b11272a9-2bb5-4d49-a6d6-9986347b1b9a"
      },
      "source": [
        "def decode(string):\n",
        "    decrypt = {'1': '9', '2': '8', '3': '7', \n",
        "               '4': '6', '5': '0', '6': '4', \n",
        "               '7': '3', '8': '2', '9': '1',\n",
        "               '0': '5'}\n",
        "    return \"\".join(decrypt[num] for num in string)\n",
        "\n",
        "decode(\"4103432323\") # \"6957678787\""
      ],
      "execution_count": null,
      "outputs": [
        {
          "output_type": "execute_result",
          "data": {
            "application/vnd.google.colaboratory.intrinsic+json": {
              "type": "string"
            },
            "text/plain": [
              "'6957678787'"
            ]
          },
          "metadata": {
            "tags": []
          },
          "execution_count": 15
        }
      ]
    },
    {
      "cell_type": "code",
      "metadata": {
        "colab": {
          "base_uri": "https://localhost:8080/"
        },
        "id": "hs_dNrsa8Yew",
        "outputId": "ae49d307-398e-4ad9-8fb0-454de2d2ad60"
      },
      "source": [
        "def solution(number):\n",
        "  return 0 if number < 1 else sum(num for num in range(number) if num % 3 == 0 or num % 5 == 0)\n",
        "\n",
        "solution(10) # 23"
      ],
      "execution_count": null,
      "outputs": [
        {
          "output_type": "execute_result",
          "data": {
            "text/plain": [
              "23"
            ]
          },
          "metadata": {
            "tags": []
          },
          "execution_count": 1
        }
      ]
    },
    {
      "cell_type": "code",
      "metadata": {
        "colab": {
          "base_uri": "https://localhost:8080/"
        },
        "id": "6YT5SpueOeqz",
        "outputId": "37ac2976-bc9d-44d0-a684-2cfb86ea845c"
      },
      "source": [
        "def get_count(input_str):\n",
        "    return sum(1 for x in input_str if x in 'aiueo')\n",
        "    \n",
        "get_count(\"abracadabra\") # 5\n",
        "get_count(\"\") # 0\n",
        "get_count(\"pear tree\") # 4\n",
        "get_count(\"o a kak ushakov lil vo kashu kakao\") # 13"
      ],
      "execution_count": null,
      "outputs": [
        {
          "output_type": "execute_result",
          "data": {
            "text/plain": [
              "13"
            ]
          },
          "metadata": {
            "tags": []
          },
          "execution_count": 20
        }
      ]
    },
    {
      "cell_type": "code",
      "metadata": {
        "colab": {
          "base_uri": "https://localhost:8080/"
        },
        "id": "edpINcTW5EWN",
        "outputId": "c626a273-9177-457a-de14-d82e7ffe37ee"
      },
      "source": [
        "def descending_order(num):\n",
        "    return int(\"\".join(sorted(str(num), reverse=True)))\n",
        "\n",
        "descending_order(0) # 0\n",
        "descending_order(15) # 51\n",
        "descending_order(123456789) # 987654321"
      ],
      "execution_count": null,
      "outputs": [
        {
          "output_type": "execute_result",
          "data": {
            "text/plain": [
              "987654321"
            ]
          },
          "metadata": {
            "tags": []
          },
          "execution_count": 19
        }
      ]
    },
    {
      "cell_type": "code",
      "metadata": {
        "colab": {
          "base_uri": "https://localhost:8080/",
          "height": 35
        },
        "id": "DS7ARYX2qijb",
        "outputId": "89816ad4-ec84-4f4b-ba8d-9c9833cafdfb"
      },
      "source": [
        "def odd_or_even(arr):\n",
        "  return \"odd\" if sum(arr) & 1 else \"even\"\n",
        "\n",
        "odd_or_even([0, 1, 2]) # \"odd\"\n",
        "odd_or_even([0, 1, 3]) # \"even\"\n",
        "odd_or_even([1023, 1, 2]) # \"even\""
      ],
      "execution_count": null,
      "outputs": [
        {
          "output_type": "execute_result",
          "data": {
            "application/vnd.google.colaboratory.intrinsic+json": {
              "type": "string"
            },
            "text/plain": [
              "'even'"
            ]
          },
          "metadata": {
            "tags": []
          },
          "execution_count": 10
        }
      ]
    },
    {
      "cell_type": "code",
      "metadata": {
        "colab": {
          "base_uri": "https://localhost:8080/"
        },
        "id": "qUN0S_gvN431",
        "outputId": "1de2c867-a08a-45ea-eb8a-aa1d742c2ed7"
      },
      "source": [
        "def square_digits(num):\n",
        "    return int(\"\".join(map(lambda x: str(int(x)**2), str(num))))\n",
        "\n",
        "square_digits(9119) # 811181"
      ],
      "execution_count": null,
      "outputs": [
        {
          "output_type": "execute_result",
          "data": {
            "text/plain": [
              "811181"
            ]
          },
          "metadata": {
            "tags": []
          },
          "execution_count": 10
        }
      ]
    },
    {
      "cell_type": "code",
      "metadata": {
        "colab": {
          "base_uri": "https://localhost:8080/",
          "height": 35
        },
        "id": "E9TX4f9_KedU",
        "outputId": "a2e1f410-2408-4301-e713-4abfcd5f3396"
      },
      "source": [
        "# this is O(n*logn)\n",
        "def high_and_low(numbers):\n",
        "  num = sorted(map(int, numbers.split()))\n",
        "  return \"{} {}\".format(num[-1], num[0])\n",
        "\n",
        "\n",
        "high_and_low(\"1 2 3 4 5\")  # return \"5 1\"\n",
        "high_and_low(\"1 2 -3 4 5\") # return \"5 -3\"\n",
        "high_and_low(\"1 9 3 4 -5\") # return \"9 -5\""
      ],
      "execution_count": null,
      "outputs": [
        {
          "output_type": "execute_result",
          "data": {
            "application/vnd.google.colaboratory.intrinsic+json": {
              "type": "string"
            },
            "text/plain": [
              "'9 -5'"
            ]
          },
          "metadata": {
            "tags": []
          },
          "execution_count": 4
        }
      ]
    },
    {
      "cell_type": "code",
      "metadata": {
        "colab": {
          "base_uri": "https://localhost:8080/",
          "height": 35
        },
        "id": "lcTDoX46Ibk-",
        "outputId": "c67c6c16-e644-4d1a-bdb0-8cd771777ef9"
      },
      "source": [
        "def alphabet_war(fight):\n",
        "  left = 'sbpw'\n",
        "  right = 'zdqm'\n",
        "  condition = sum(-(left.index(c)+1) if c in left else right.index(c)+1 if c in right else 0 for c in fight)\n",
        "  return \"Left side wins!\" if condition < 0 else \"Let's fight again!\" if condition == 0 else \"Right side wins!\"\n",
        "  \n",
        "\n",
        "# alphabet_war(\"z\")        # Right side wins!\n",
        "alphabet_war(\"zdqmwpbs\") # Let's fight again!\n",
        "# alphabet_war(\"zzzzs\")    # Right side wins!\n",
        "# alphabet_war(\"wwwwwwz\")  # Left side wins!"
      ],
      "execution_count": null,
      "outputs": [
        {
          "output_type": "execute_result",
          "data": {
            "application/vnd.google.colaboratory.intrinsic+json": {
              "type": "string"
            },
            "text/plain": [
              "\"Let's fight again!\""
            ]
          },
          "metadata": {
            "tags": []
          },
          "execution_count": 21
        }
      ]
    },
    {
      "cell_type": "code",
      "metadata": {
        "colab": {
          "base_uri": "https://localhost:8080/",
          "height": 35
        },
        "id": "ODUgKddO_QVa",
        "outputId": "c19a155f-383d-47a8-e348-4e77bc714fdf"
      },
      "source": [
        "def crap(garden, bags, cap):\n",
        "    #your code here\n",
        "    crap = sum(1 for _ in garden for c in _ if c == '@')\n",
        "    dog = any(1 for _ in garden for d in _ if d == 'D')\n",
        "    return \"Dog!!\" if dog else \"Cr@p\" if crap > bags * cap else \"Clean\"\n",
        "\n",
        "crap([['_','_','_','_'], ['_','_','_','@'], ['_','_','@', '_']], 2, 2) # \"Clean\"\n",
        "crap([['_','_','_','_'], ['_','_','_','@'], ['_','_','@', '_']], 1, 1) # \"Cr@p\"\n",
        "# crap([['_','_'], ['_','@'], ['D','_']], 2, 2) # \"Dog!!\"\n",
        "# crap([['_','_','_','_'], ['_','_','_','_'], ['_','_','_', '_']], 2, 2) # \"Clean\"\n",
        "# crap([['@','@'], ['@','@'], ['@','@']], 3, 2) # \"Clean\""
      ],
      "execution_count": null,
      "outputs": [
        {
          "output_type": "execute_result",
          "data": {
            "application/vnd.google.colaboratory.intrinsic+json": {
              "type": "string"
            },
            "text/plain": [
              "'Cr@p'"
            ]
          },
          "metadata": {
            "tags": []
          },
          "execution_count": 16
        }
      ]
    },
    {
      "cell_type": "code",
      "metadata": {
        "colab": {
          "base_uri": "https://localhost:8080/"
        },
        "id": "tfAaeI7n82SC",
        "outputId": "9c580f45-b065-4d7f-c694-9b81747e4160"
      },
      "source": [
        "def div_con(x):\n",
        "    return sum(-int(num) if isinstance(num, str) else num for num in x)\n",
        "\n",
        "\n",
        "div_con([9, 3, '7', '3'])                      # 2\n",
        "div_con(['5', '0', 9, 3, 2, 1, '9', 6, 7])     # 14\n",
        "div_con(['3', 6, 6, 0, '5', 8, 5, '6', 2,'0']) # 13\n",
        "div_con(['1', '5', '8', 8, 9, 9, 2, '3'])      # 11\n",
        "div_con([8, 0, 0, 8, 5, 7, 2, 3, 7, 8, 6, 7])  # 61"
      ],
      "execution_count": null,
      "outputs": [
        {
          "output_type": "execute_result",
          "data": {
            "text/plain": [
              "61"
            ]
          },
          "metadata": {
            "tags": []
          },
          "execution_count": 8
        }
      ]
    },
    {
      "cell_type": "code",
      "metadata": {
        "colab": {
          "base_uri": "https://localhost:8080/"
        },
        "id": "dhkjm-p26Ohn",
        "outputId": "dcb683e2-2dd5-4fad-9d12-2853efcd960e"
      },
      "source": [
        "def last(s):\n",
        "  return sorted(s.split(), key=lambda w: w[-1])\n",
        "\n",
        "last(\"man i need a taxi up to ubud\") # [\"a\", \"need\", \"ubud\", \"i\", \"taxi\", \"man\", \"to\", \"up\"]\n",
        "last(\"what time are we climbing up the volcano\") # [\"time\", \"are\", \"we\", \"the\", \"climbing\", \"volcano\", \"up\", \"what\"]\n",
        "last(\"take me to semynak\") # [\"take\", \"me\", \"semynak\", \"to\"]"
      ],
      "execution_count": null,
      "outputs": [
        {
          "output_type": "execute_result",
          "data": {
            "text/plain": [
              "['take', 'me', 'semynak', 'to']"
            ]
          },
          "metadata": {
            "tags": []
          },
          "execution_count": 7
        }
      ]
    },
    {
      "cell_type": "code",
      "metadata": {
        "colab": {
          "base_uri": "https://localhost:8080/"
        },
        "id": "PKrIryPIH64i",
        "outputId": "4f7bd70c-c3d2-4bda-d80b-60eda3c324f3"
      },
      "source": [
        "# FOR KNOWLEDGE --> LIST SUBTRACTION\n",
        "x = [1,2,2,2,2,4]\n",
        "y = [2,2]\n",
        "\n",
        "[i for i in x if not i in y or y.remove(i)]"
      ],
      "execution_count": null,
      "outputs": [
        {
          "output_type": "execute_result",
          "data": {
            "text/plain": [
              "[1, 2, 2, 4]"
            ]
          },
          "metadata": {
            "tags": []
          },
          "execution_count": 104
        }
      ]
    },
    {
      "cell_type": "code",
      "metadata": {
        "colab": {
          "base_uri": "https://localhost:8080/",
          "height": 35
        },
        "id": "eIW1urqGURSO",
        "outputId": "6a945e38-fdc5-4dac-8c44-5c65a7e4fea0"
      },
      "source": [
        "# Other solution\n",
        "def solve(st,k): \n",
        "  for x in sorted(st)[:k]:\n",
        "    st = st.replace(x, '', 1)\n",
        "  return st\n",
        "\n",
        "solve('abracadabra', 1) #'bracadabra'\n",
        "solve('abracadabra', 2) #'brcadabra'\n",
        "solve('abracadabra', 6) #'rcdbr'\n",
        "solve('abracadabra', 8) #'rdr'\n",
        "# solve('abracadabra', 50) #''"
      ],
      "execution_count": null,
      "outputs": [
        {
          "output_type": "execute_result",
          "data": {
            "application/vnd.google.colaboratory.intrinsic+json": {
              "type": "string"
            },
            "text/plain": [
              "'rdr'"
            ]
          },
          "metadata": {
            "tags": []
          },
          "execution_count": 98
        }
      ]
    },
    {
      "cell_type": "code",
      "metadata": {
        "colab": {
          "base_uri": "https://localhost:8080/",
          "height": 35
        },
        "id": "d4qLGm_CKGqZ",
        "outputId": "c6d89df8-ae1b-44b0-d783-b1f2c8b4e74f"
      },
      "source": [
        "# My solution + stackoverflow\n",
        "from collections import Counter\n",
        "\n",
        "def solve(st,k): \n",
        "  st = list(st)\n",
        "  rem = Counter(sorted(st)[:k])\n",
        "  out = []\n",
        "  for val in st:\n",
        "      if rem[val]:\n",
        "          rem[val] -= 1\n",
        "      else:\n",
        "          out.append(val)\n",
        "  return \"\".join(out)\n",
        "\n",
        "\n",
        "solve('abracadabra', 1) #'bracadabra'\n",
        "solve('abracadabra', 2) #'brcadabra'\n",
        "solve('abracadabra', 6) #'rcdbr'\n",
        "solve('abracadabra', 8) #'rdr'\n",
        "# solve('abracadabra', 50) #''"
      ],
      "execution_count": null,
      "outputs": [
        {
          "output_type": "execute_result",
          "data": {
            "application/vnd.google.colaboratory.intrinsic+json": {
              "type": "string"
            },
            "text/plain": [
              "'rdr'"
            ]
          },
          "metadata": {
            "tags": []
          },
          "execution_count": 91
        }
      ]
    },
    {
      "cell_type": "code",
      "metadata": {
        "colab": {
          "base_uri": "https://localhost:8080/"
        },
        "id": "y26BbOlJBGS1",
        "outputId": "45476885-60ad-4927-92c5-2d6faf65ad4a"
      },
      "source": [
        "def noonerize(numbers):\n",
        "    try:\n",
        "      a, b = numbers\n",
        "      a, b = str(a), str(b)\n",
        "      a, b = b[0]+a[1:], a[0]+b[1:]\n",
        "      return abs(int(a)-int(b))\n",
        "    except ValueError:\n",
        "      return \"invalid array\"\n",
        "\n",
        "noonerize([12, 34]) # 18\n",
        "noonerize([55, 63]) # 12\n",
        "noonerize([357, 579]) # 178\n",
        "noonerize([1000000, 9999999]) # 7000001\n",
        "noonerize([1000000, \"hello\"]) # \"invalid array\"\n",
        "noonerize([\"pippi\", 9999999]) # \"invalid array\"\n",
        "noonerize([\"pippi\", \"hello\"]) # \"invalid array\"\n",
        "noonerize([1, 1]) # 0\n",
        "noonerize([1, 0]) # 1\n",
        "noonerize([0, 1]) # 1"
      ],
      "execution_count": null,
      "outputs": [
        {
          "output_type": "execute_result",
          "data": {
            "text/plain": [
              "1"
            ]
          },
          "metadata": {
            "tags": []
          },
          "execution_count": 20
        }
      ]
    },
    {
      "cell_type": "code",
      "metadata": {
        "colab": {
          "base_uri": "https://localhost:8080/",
          "height": 35
        },
        "id": "jT2zfvbl_NlM",
        "outputId": "a3581a65-82de-4c98-9756-006384e39c59"
      },
      "source": [
        "# Other solution\n",
        "def spoonerize(words):\n",
        "    a,b = words.split()\n",
        "    return \"{}{} {}{}\".format(b[0], a[1:], a[0], b[1:])\n",
        "\n",
        "spoonerize(\"pop corn\") # \"cop porn\""
      ],
      "execution_count": null,
      "outputs": [
        {
          "output_type": "execute_result",
          "data": {
            "application/vnd.google.colaboratory.intrinsic+json": {
              "type": "string"
            },
            "text/plain": [
              "'cop porn'"
            ]
          },
          "metadata": {
            "tags": []
          },
          "execution_count": 4
        }
      ]
    },
    {
      "cell_type": "code",
      "metadata": {
        "colab": {
          "base_uri": "https://localhost:8080/",
          "height": 35
        },
        "id": "b_k560r3vhsj",
        "outputId": "83348f40-6559-4000-bedb-47d542f03748"
      },
      "source": [
        "# My solution\n",
        "def spoonerize(words):\n",
        "    w = words.split()\n",
        "    return f\"{w[1][0]}{w[0][1:]} {w[0][0]}{w[1][1:]}\"\n",
        "\n",
        "spoonerize(\"nit picking\") # \"pit nicking\"\n",
        "spoonerize(\"wedding bells\") # \"bedding wells\"\n",
        "spoonerize(\"jelly beans\") # \"belly jeans\"\n",
        "spoonerize(\"pop corn\") # \"cop porn\""
      ],
      "execution_count": null,
      "outputs": [
        {
          "output_type": "execute_result",
          "data": {
            "application/vnd.google.colaboratory.intrinsic+json": {
              "type": "string"
            },
            "text/plain": [
              "'cop porn'"
            ]
          },
          "metadata": {
            "tags": []
          },
          "execution_count": 3
        }
      ]
    },
    {
      "cell_type": "code",
      "metadata": {
        "colab": {
          "base_uri": "https://localhost:8080/",
          "height": 35
        },
        "id": "IYglI61C1yMP",
        "outputId": "d0635671-f4f6-484e-ecad-619722e15260"
      },
      "source": [
        "def rot(strng):\n",
        "    return strng[::-1]\n",
        "\n",
        "def selfie_and_rot(strng):\n",
        "    dot = \".\" * len(strng.split(\"\\n\")[0])\n",
        "    return strng.replace(\"\\n\", dot+\"\\n\") + dot + \"\".join(\"\\n\"+dot+w for w in rot(strng).split(\"\\n\"))\n",
        "\n",
        "def oper(fct, s):\n",
        "    return fct(s)\n",
        "\n",
        "# \"Basic tests rot\" \n",
        "oper(rot, \"fijuoo\\nCqYVct\\nDrPmMJ\\nerfpBA\\nkWjFUG\\nCVUfyL\") # \"LyfUVC\\nGUFjWk\\nABpfre\\nJMmPrD\\ntcVYqC\\nooujif\"\n",
        "oper(rot, \"rkKv\\ncofM\\nzXkh\\nflCB\") # \"BClf\\nhkXz\\nMfoc\\nvKkr\"\n",
        "\n",
        "# \"Basic tests selfie_and_rot\"\n",
        "oper(selfie_and_rot, \"xZBV\\njsbS\\nJcpN\\nfVnP\") \n",
        "   # \"xZBV....\\njsbS....\\nJcpN....\\nfVnP....\\n....PnVf\\n....NpcJ\\n....Sbsj\\n....VBZx\"\n",
        "oper(selfie_and_rot, \"uLcq\\nJkuL\\nYirX\\nnwMB\")\n",
        "   # \"uLcq....\\nJkuL....\\nYirX....\\nnwMB....\\n....BMwn\\n....XriY\\n....LukJ\\n....qcLu\""
      ],
      "execution_count": null,
      "outputs": [
        {
          "output_type": "execute_result",
          "data": {
            "application/vnd.google.colaboratory.intrinsic+json": {
              "type": "string"
            },
            "text/plain": [
              "'uLcq....\\nJkuL....\\nYirX....\\nnwMB....\\n....BMwn\\n....XriY\\n....LukJ\\n....qcLu'"
            ]
          },
          "metadata": {
            "tags": []
          },
          "execution_count": 76
        }
      ]
    },
    {
      "cell_type": "code",
      "metadata": {
        "colab": {
          "base_uri": "https://localhost:8080/",
          "height": 35
        },
        "id": "dNWx4KUet2br",
        "outputId": "391b6f99-1e0d-447e-8b2b-030beaf7f5c4"
      },
      "source": [
        "def vert_mirror(strng):\n",
        "    return \"\\n\".join(w[::-1] for w in strng.split(\"\\n\"))\n",
        "\n",
        "def hor_mirror(strng):\n",
        "    return \"\\n\".join(strng.split(\"\\n\")[::-1])\n",
        "\n",
        "def oper(fct, s):\n",
        "    return fct(s)\n",
        "\n",
        "\n",
        "# \"Basic tests vert_mirror\"\n",
        "oper(vert_mirror, \"hSgdHQ\\nHnDMao\\nClNNxX\\niRvxxH\\nbqTVvA\\nwvSyRu\") # \"QHdgSh\\noaMDnH\\nXxNNlC\\nHxxvRi\\nAvVTqb\\nuRySvw\")\n",
        "oper(vert_mirror, \"IzOTWE\\nkkbeCM\\nWuzZxM\\nvDddJw\\njiJyHF\\nPVHfSx\") # \"EWTOzI\\nMCebkk\\nMxZzuW\\nwJddDv\\nFHyJij\\nxSfHVP\") \n",
        "\n",
        "# \"Basic tests hor_mirror\"\n",
        "oper(hor_mirror, \"lVHt\\nJVhv\\nCSbg\\nyeCt\") # \"yeCt\\nCSbg\\nJVhv\\nlVHt\")\n",
        "oper(hor_mirror, \"njMK\\ndbrZ\\nLPKo\\ncEYz\") # \"cEYz\\nLPKo\\ndbrZ\\nnjMK\")\n"
      ],
      "execution_count": null,
      "outputs": [
        {
          "output_type": "execute_result",
          "data": {
            "application/vnd.google.colaboratory.intrinsic+json": {
              "type": "string"
            },
            "text/plain": [
              "'cEYz\\nLPKo\\ndbrZ\\nnjMK'"
            ]
          },
          "metadata": {
            "tags": []
          },
          "execution_count": 57
        }
      ]
    },
    {
      "cell_type": "code",
      "metadata": {
        "colab": {
          "base_uri": "https://localhost:8080/",
          "height": 35
        },
        "id": "jBkKcBxjrmM2",
        "outputId": "b322c6f6-8d00-4357-ae08-4c9e45f59d47"
      },
      "source": [
        "def spin_words(sentence):\n",
        "  return ' '.join(w[::-1] if len(w) > 4 else w for w in sentence.split())\n",
        "\n",
        "spin_words( \"Hey fellow warriors\" ) # returns \"Hey wollef sroirraw\"\n",
        "spin_words( \"This is a test\") # returns \"This is a test\"\n",
        "spin_words( \"This is another test\" ) # returns \"This is rehtona test\""
      ],
      "execution_count": null,
      "outputs": [
        {
          "output_type": "execute_result",
          "data": {
            "application/vnd.google.colaboratory.intrinsic+json": {
              "type": "string"
            },
            "text/plain": [
              "'Hey wollef sroirraw'"
            ]
          },
          "metadata": {
            "tags": []
          },
          "execution_count": 41
        }
      ]
    },
    {
      "cell_type": "code",
      "metadata": {
        "colab": {
          "base_uri": "https://localhost:8080/"
        },
        "id": "k2A2hDsVjkW1",
        "outputId": "5b096e8d-cb12-443f-881b-83481c8be4e8"
      },
      "source": [
        "# Other solution\n",
        "def dig_pow(n, p):\n",
        "  s = 0\n",
        "  for i,c in enumerate(str(n)):\n",
        "    s += pow(int(c), p+i)\n",
        "  return s/n if s%n==0 else -1\n",
        "\n",
        "dig_pow(46288, 3) # should return 51 since 4³ + 6⁴+ 2⁵ + 8⁶ + 8⁷ = 2360688 = 46288 * 51"
      ],
      "execution_count": null,
      "outputs": [
        {
          "output_type": "execute_result",
          "data": {
            "text/plain": [
              "51.0"
            ]
          },
          "metadata": {
            "tags": []
          },
          "execution_count": 36
        }
      ]
    },
    {
      "cell_type": "code",
      "metadata": {
        "colab": {
          "base_uri": "https://localhost:8080/"
        },
        "id": "8gDtRVm0hutX",
        "outputId": "20630cfd-f61e-45c6-b6a6-10b7a0312ad1"
      },
      "source": [
        "# My solution\n",
        "  power_list = list(range(p, p+len(str(n))))\n",
        "  total = sum([int(x)**y for x,y in zip(str(n), power_list)])\n",
        "  return int(total/n) if total%n==0 else -1\n",
        "\n",
        "dig_pow(89, 1) # should return 1 since 8¹ + 9² = 89 = 89 * 1\n",
        "dig_pow(92, 1) # should return -1 since there is no k such as 9¹ + 2² equals 92 * k\n",
        "dig_pow(695, 2) # should return 2 since 6² + 9³ + 5⁴= 1390 = 695 * 2\n",
        "dig_pow(46288, 3) # should return 51 since 4³ + 6⁴+ 2⁵ + 8⁶ + 8⁷ = 2360688 = 46288 * 51"
      ],
      "execution_count": null,
      "outputs": [
        {
          "output_type": "execute_result",
          "data": {
            "text/plain": [
              "51"
            ]
          },
          "metadata": {
            "tags": []
          },
          "execution_count": 33
        }
      ]
    },
    {
      "cell_type": "code",
      "metadata": {
        "colab": {
          "base_uri": "https://localhost:8080/"
        },
        "id": "4vpa6Ze65gi4",
        "outputId": "298341bd-5476-45d8-81f4-6ace14be20b5"
      },
      "source": [
        "def missing_values(seq):\n",
        "  x = 0\n",
        "  y = 0\n",
        "  for n in seq:\n",
        "    if seq.count(n) == 1:\n",
        "      x = n\n",
        "    elif seq.count(n) == 2:\n",
        "      y = n\n",
        "  return x * x * y\n",
        "\n",
        "arr=[1, 1, 1, 2, 2, 3]\n",
        "missing_values(arr)"
      ],
      "execution_count": null,
      "outputs": [
        {
          "output_type": "execute_result",
          "data": {
            "text/plain": [
              "18"
            ]
          },
          "metadata": {
            "tags": []
          },
          "execution_count": 31
        }
      ]
    },
    {
      "cell_type": "code",
      "metadata": {
        "colab": {
          "base_uri": "https://localhost:8080/",
          "height": 35
        },
        "id": "LAIcEaNn1YuN",
        "outputId": "88007226-03bc-4070-847d-c88456f9bbc7"
      },
      "source": [
        "def vowel_2_index(string):\n",
        "  return ''.join(str(i+1) if c in 'aiueoAIUEO' else c for i,c in enumerate(string))\n",
        "\n",
        "vowel_2_index('this is my string') # 'th3s 6s my str15ng'"
      ],
      "execution_count": null,
      "outputs": [
        {
          "output_type": "execute_result",
          "data": {
            "application/vnd.google.colaboratory.intrinsic+json": {
              "type": "string"
            },
            "text/plain": [
              "'th3s 6s my str15ng'"
            ]
          },
          "metadata": {
            "tags": []
          },
          "execution_count": 25
        }
      ]
    },
    {
      "cell_type": "code",
      "metadata": {
        "colab": {
          "base_uri": "https://localhost:8080/"
        },
        "id": "VGZ8hQ1M1NQZ",
        "outputId": "85527eff-0917-49a0-a799-35b757a2caa6"
      },
      "source": [
        "def num_obj(s):\n",
        "  return [{str(n):chr(n)} for n in s]\n",
        "\n",
        "num_obj([118,117,120]) #[{'118':'v'}, {'117':'u'}, {'120':'x'}]"
      ],
      "execution_count": null,
      "outputs": [
        {
          "output_type": "execute_result",
          "data": {
            "text/plain": [
              "[{'118': 'v'}, {'117': 'u'}, {'120': 'x'}]"
            ]
          },
          "metadata": {
            "tags": []
          },
          "execution_count": 16
        }
      ]
    },
    {
      "cell_type": "code",
      "metadata": {
        "colab": {
          "base_uri": "https://localhost:8080/",
          "height": 35
        },
        "id": "ESM6iCSMydDl",
        "outputId": "aba852e0-9186-45c7-a034-e1cebd16933f"
      },
      "source": [
        "def evens_and_odds(n):\n",
        "    return hex(n)[2::] if n%2 else bin(n)[2::]\n",
        "\n",
        "evens_and_odds(2) #'10'\n",
        "evens_and_odds(13)# 'd"
      ],
      "execution_count": null,
      "outputs": [
        {
          "output_type": "execute_result",
          "data": {
            "application/vnd.google.colaboratory.intrinsic+json": {
              "type": "string"
            },
            "text/plain": [
              "'d'"
            ]
          },
          "metadata": {
            "tags": []
          },
          "execution_count": 14
        }
      ]
    },
    {
      "cell_type": "code",
      "metadata": {
        "colab": {
          "base_uri": "https://localhost:8080/"
        },
        "id": "GcsxZ6IToGCS",
        "outputId": "3f469bce-15d5-4d2e-b283-d8ec9642627b"
      },
      "source": [
        "def db_sort(arr):\n",
        "  return sorted(arr, key=lambda x: (isinstance(x, str),x))\n",
        "\n",
        "db_sort([\"Banana\", \"Orange\", \"Apple\", \"Mango\", 2, 0, 2]) # [0,2,2,\"Apple\",\"Banana\",\"Mango\",\"Orange\"]"
      ],
      "execution_count": null,
      "outputs": [
        {
          "output_type": "execute_result",
          "data": {
            "text/plain": [
              "[0, 2, 2, 'Apple', 'Banana', 'Mango', 'Orange']"
            ]
          },
          "metadata": {
            "tags": []
          },
          "execution_count": 54
        }
      ]
    },
    {
      "cell_type": "code",
      "metadata": {
        "colab": {
          "base_uri": "https://localhost:8080/"
        },
        "id": "-ouDEmMpksFp",
        "outputId": "df7c8df6-57ea-4573-e289-34f58020c7ac"
      },
      "source": [
        "# My solution\n",
        "def db_sort(arr): \n",
        "  return sorted(x for x in arr if isinstance(x, int)) + sorted(x for x in arr if isinstance(x, str))\n",
        "\n",
        "db_sort([\"Banana\", \"Orange\", \"Apple\", \"Mango\", 0, 2, 2]) # [0,2,2,\"Apple\",\"Banana\",\"Mango\",\"Orange\"]"
      ],
      "execution_count": null,
      "outputs": [
        {
          "output_type": "execute_result",
          "data": {
            "text/plain": [
              "[0, 2, 2, 'Apple', 'Banana', 'Mango', 'Orange']"
            ]
          },
          "metadata": {
            "tags": []
          },
          "execution_count": 48
        }
      ]
    },
    {
      "cell_type": "code",
      "metadata": {
        "colab": {
          "base_uri": "https://localhost:8080/"
        },
        "id": "ER11rGRDiC_G",
        "outputId": "d0684bfa-de93-40c8-f990-e9bb4dc1846e"
      },
      "source": [
        "# Other solution\n",
        "def elevator_distance(array):\n",
        "  return sum(abs(i-j) for i,j in zip(array, array[1::]))\n",
        "\n",
        "elevator_distance([5,2,8]) # 9\n",
        "elevator_distance([1,2,3]) # 2\n",
        "elevator_distance([7,1,7,1]) # 18"
      ],
      "execution_count": null,
      "outputs": [
        {
          "output_type": "execute_result",
          "data": {
            "text/plain": [
              "18"
            ]
          },
          "metadata": {
            "tags": []
          },
          "execution_count": 20
        }
      ]
    },
    {
      "cell_type": "code",
      "metadata": {
        "colab": {
          "base_uri": "https://localhost:8080/"
        },
        "id": "O3Buq7qfgMpR",
        "outputId": "ee20f613-48c1-424b-efbd-d85fb2d400f6"
      },
      "source": [
        "# Solution 2\n",
        "def elevator_distance(array):\n",
        "  total = 0\n",
        "  for i,j in zip(array, array[1::]):\n",
        "    total += abs(i-j)\n",
        "  return total\n",
        "\n",
        "elevator_distance([5,2,8]) # 9\n",
        "elevator_distance([1,2,3]) # 2\n",
        "elevator_distance([7,1,7,1]) # 18"
      ],
      "execution_count": null,
      "outputs": [
        {
          "output_type": "execute_result",
          "data": {
            "text/plain": [
              "2"
            ]
          },
          "metadata": {
            "tags": []
          },
          "execution_count": 18
        }
      ]
    },
    {
      "cell_type": "code",
      "metadata": {
        "colab": {
          "base_uri": "https://localhost:8080/"
        },
        "id": "Po54MASCedI5",
        "outputId": "82ea7857-f7c6-4148-b1b5-6143b17fc328"
      },
      "source": [
        "# Solution 1\n",
        "def elevator_distance(array):\n",
        "  total = 0\n",
        "  prev_floor = 0\n",
        "  for id, floor in enumerate(array):\n",
        "    total += abs(prev_floor - floor) * bool(id)\n",
        "    prev_floor = floor\n",
        "  return total\n",
        "\n",
        "\n",
        "elevator_distance([5,2,8]) # 9\n",
        "elevator_distance([1,2,3]) # 2\n",
        "elevator_distance([7,1,7,1]) # 18"
      ],
      "execution_count": null,
      "outputs": [
        {
          "output_type": "execute_result",
          "data": {
            "text/plain": [
              "18"
            ]
          },
          "metadata": {
            "tags": []
          },
          "execution_count": 16
        }
      ]
    },
    {
      "cell_type": "code",
      "metadata": {
        "colab": {
          "base_uri": "https://localhost:8080/"
        },
        "id": "ucLmDlnSV0NM",
        "outputId": "2db880da-7339-44d0-c25f-ab7c87b8c38f"
      },
      "source": [
        "def guess(x):\n",
        "  return sorted(range(1,x+1), key=str)\n",
        "\n",
        "guess(16)"
      ],
      "execution_count": null,
      "outputs": [
        {
          "output_type": "execute_result",
          "data": {
            "text/plain": [
              "[1, 10, 11, 12, 13, 14, 15, 16, 2, 3, 4, 5, 6, 7, 8, 9]"
            ]
          },
          "metadata": {
            "tags": []
          },
          "execution_count": 3
        }
      ]
    },
    {
      "cell_type": "code",
      "metadata": {
        "colab": {
          "base_uri": "https://localhost:8080/",
          "height": 35
        },
        "id": "b0toLRx2cjGS",
        "outputId": "8192bf02-0513-4385-b859-7a8ea314c5cc"
      },
      "source": [
        "def gordon(a):\n",
        "  a = a.translate(str.maketrans('iueo', '****'))\n",
        "  return ' '.join(word.upper() +'!!!!' for word in a.split(' ')).replace('A', '@')\n",
        "\n",
        "gordon('What feck damn cake') # 'WH@T!!!! F*CK!!!! D@MN!!!! C@K*!!!!'"
      ],
      "execution_count": null,
      "outputs": [
        {
          "output_type": "execute_result",
          "data": {
            "application/vnd.google.colaboratory.intrinsic+json": {
              "type": "string"
            },
            "text/plain": [
              "'WH@T!!!! F*CK!!!! D@MN!!!! C@K*!!!!'"
            ]
          },
          "metadata": {
            "tags": []
          },
          "execution_count": 38
        }
      ]
    },
    {
      "cell_type": "code",
      "metadata": {
        "colab": {
          "base_uri": "https://localhost:8080/"
        },
        "id": "EUaLxuwsY98Z",
        "outputId": "d0d3cef5-d663-4ea7-cff4-69a2edf37a38"
      },
      "source": [
        "def status(nums):\n",
        "  status = []\n",
        "  status_id = []\n",
        "  for i,j  in enumerate(nums):\n",
        "    status.append(i + sum(1 for e in nums if e < j))\n",
        "    status_id.append(i)\n",
        "  return [x for _,_,x in sorted(zip(status, status_id, nums))]\n",
        "    \n",
        "\n",
        "status([6, 9, 3, 8, 2, 3, 1]) # [6, 3, 2, 1, 9, 3, 8]"
      ],
      "execution_count": null,
      "outputs": [
        {
          "output_type": "execute_result",
          "data": {
            "text/plain": [
              "[6, 3, 2, 1, 9, 3, 8]"
            ]
          },
          "metadata": {
            "tags": []
          },
          "execution_count": 23
        }
      ]
    },
    {
      "cell_type": "code",
      "metadata": {
        "colab": {
          "base_uri": "https://localhost:8080/"
        },
        "id": "e-nvYOpvo7pI",
        "outputId": "4097e1f4-3754-44be-ed90-2fc03c1fdec4"
      },
      "source": [
        "def life_path_number(s):\n",
        "  return int(s.replace('-', '')) % 9 or 9\n",
        "\n",
        "life_path_number(\"1971-06-28\") # 7"
      ],
      "execution_count": null,
      "outputs": [
        {
          "output_type": "execute_result",
          "data": {
            "text/plain": [
              "7"
            ]
          },
          "metadata": {
            "tags": []
          },
          "execution_count": 59
        }
      ]
    },
    {
      "cell_type": "code",
      "metadata": {
        "colab": {
          "base_uri": "https://localhost:8080/"
        },
        "id": "-tWSx2xUmCVY",
        "outputId": "0f6fe6f1-bca0-4e99-e941-03b0ec45c8c1"
      },
      "source": [
        "# My solution\n",
        "def life_path_number(birthdate):\n",
        "\n",
        "  def get_num(st):\n",
        "    num = sum(map(int, list(st)))\n",
        "    if len(str(num)) == 2:\n",
        "      num = get_num(str(num))\n",
        "    return num\n",
        "\n",
        "  y, m, d = birthdate.split('-')\n",
        "  y = get_num(y)\n",
        "  m = get_num(m)\n",
        "  d = get_num(d)\n",
        "  total = get_num(str(y + m + d))\n",
        "  return total\n",
        "\n",
        "life_path_number(\"1971-06-28\") # 7"
      ],
      "execution_count": null,
      "outputs": [
        {
          "output_type": "execute_result",
          "data": {
            "text/plain": [
              "7"
            ]
          },
          "metadata": {
            "tags": []
          },
          "execution_count": 52
        }
      ]
    },
    {
      "cell_type": "code",
      "metadata": {
        "colab": {
          "base_uri": "https://localhost:8080/",
          "height": 35
        },
        "id": "8KXANAw7f4Zt",
        "outputId": "d652e92c-af7a-43e4-d9da-7029d81e9d44"
      },
      "source": [
        "def move_ten(st):\n",
        "     return ''.join(chr(97 + (ord(e)-97 + 10)%26) for e in st)\n",
        "\n",
        "move_ten(\"testcase\") # \"docdmkco\""
      ],
      "execution_count": null,
      "outputs": [
        {
          "output_type": "execute_result",
          "data": {
            "application/vnd.google.colaboratory.intrinsic+json": {
              "type": "string"
            },
            "text/plain": [
              "'docdmkco'"
            ]
          },
          "metadata": {
            "tags": []
          },
          "execution_count": 29
        }
      ]
    },
    {
      "cell_type": "code",
      "metadata": {
        "colab": {
          "base_uri": "https://localhost:8080/",
          "height": 35
        },
        "id": "mQnKj7skeQY1",
        "outputId": "c8bd518c-2962-424c-d2af-39d1c50e4714"
      },
      "source": [
        "# my solution\n",
        "def move_ten(st):\n",
        "    return ''.join(chr(ord(i) - 122 + 106) if i in 'qrstuvwxyz' else chr(ord(i) + 10) for i in st)\n",
        "\n",
        "move_ten(\"testcase\") # \"docdmkco\""
      ],
      "execution_count": null,
      "outputs": [
        {
          "output_type": "execute_result",
          "data": {
            "application/vnd.google.colaboratory.intrinsic+json": {
              "type": "string"
            },
            "text/plain": [
              "'docdmkco'"
            ]
          },
          "metadata": {
            "tags": []
          },
          "execution_count": 24
        }
      ]
    },
    {
      "cell_type": "code",
      "metadata": {
        "colab": {
          "base_uri": "https://localhost:8080/"
        },
        "id": "oVXJ7wIx2i2S",
        "outputId": "f98dc161-7367-421f-9106-c6253f4885b4"
      },
      "source": [
        "def iq_test(numbers):\n",
        "    e = [int(i) % 2 == 0 for i in numbers.split()]\n",
        "    return e.index(True) + 1 if e.count(True) == 1 else e.index(False) + 1\n",
        "\n",
        "iq_test(\"2 4 7 8 10\")"
      ],
      "execution_count": null,
      "outputs": [
        {
          "output_type": "execute_result",
          "data": {
            "text/plain": [
              "False"
            ]
          },
          "metadata": {
            "tags": []
          },
          "execution_count": 115
        }
      ]
    },
    {
      "cell_type": "code",
      "metadata": {
        "colab": {
          "base_uri": "https://localhost:8080/"
        },
        "id": "s6yQde97t2Eg",
        "outputId": "39e654a3-9ae6-4bab-bd2b-d930ba049c45"
      },
      "source": [
        "# My solution\n",
        "def iq_test(numbers):\n",
        "\n",
        "    def diff(odd, even):\n",
        "        if len(odd) == 1:\n",
        "            return odd\n",
        "        return even \n",
        "\n",
        "    num = list(int(i) for i in numbers.split())\n",
        "    odd = [i for i in num if i & 1]\n",
        "    even = [i for i in num if i%2==0]\n",
        "    diff_num = diff(odd, even)\n",
        "    return num.index(diff_num[0])+1\n",
        "    \n",
        "\n",
        "iq_test(\"2 4 7 8 10\")"
      ],
      "execution_count": null,
      "outputs": [
        {
          "output_type": "execute_result",
          "data": {
            "text/plain": [
              "3"
            ]
          },
          "metadata": {
            "tags": []
          },
          "execution_count": 106
        }
      ]
    },
    {
      "cell_type": "code",
      "metadata": {
        "colab": {
          "base_uri": "https://localhost:8080/",
          "height": 35
        },
        "id": "pl_rfYYkq1PZ",
        "outputId": "54b64420-8854-4e02-e3c6-9ccd3629434c"
      },
      "source": [
        "def longest(a1, a2):\n",
        "   return ''.join(sorted(set(a1 + a2)))\n",
        "\n",
        "\n",
        "a = \"xyaabbbccccdefww\"\n",
        "b = \"xxxxyyyyabklmopq\"\n",
        "longest(a, b) # \"abcdefklmopqwxy\""
      ],
      "execution_count": null,
      "outputs": [
        {
          "output_type": "execute_result",
          "data": {
            "application/vnd.google.colaboratory.intrinsic+json": {
              "type": "string"
            },
            "text/plain": [
              "'abcdefklmopqwxy'"
            ]
          },
          "metadata": {
            "tags": []
          },
          "execution_count": 67
        }
      ]
    },
    {
      "cell_type": "code",
      "metadata": {
        "colab": {
          "base_uri": "https://localhost:8080/"
        },
        "id": "cwH00tW5fQCk",
        "outputId": "0c433a58-6a23-4738-9aa5-7fba3358b975"
      },
      "source": [
        "def pyramid(balls):\n",
        "  n = 1\n",
        "  while n < balls:\n",
        "    balls -= n\n",
        "    if balls > n:\n",
        "      n += 1\n",
        "  return n\n",
        "\n",
        "pyramid(1) # 1)\n",
        "pyramid(4) # 2)\n",
        "pyramid(20) # 5)\n",
        "pyramid(100) # 13)\n",
        "pyramid(9999) # 140)\n",
        "pyramid(15) # 5)"
      ],
      "execution_count": null,
      "outputs": [
        {
          "output_type": "execute_result",
          "data": {
            "text/plain": [
              "140"
            ]
          },
          "metadata": {
            "tags": []
          },
          "execution_count": 60
        }
      ]
    },
    {
      "cell_type": "code",
      "metadata": {
        "colab": {
          "base_uri": "https://localhost:8080/"
        },
        "id": "0Z0QK-CFU3-R",
        "outputId": "522fa0a3-93ea-4a66-ae42-11a99c784be5"
      },
      "source": [
        "def solution(mtrx):\n",
        "  return any('>x' in ''.join(i).replace(' ', '') for i in mtrx)\n",
        "\n",
        "\n",
        "solution([\n",
        "  ['>', ' '],\n",
        "  [' ', 'x']\n",
        "])"
      ],
      "execution_count": null,
      "outputs": [
        {
          "output_type": "execute_result",
          "data": {
            "text/plain": [
              "False"
            ]
          },
          "metadata": {
            "tags": []
          },
          "execution_count": 20
        }
      ]
    },
    {
      "cell_type": "code",
      "metadata": {
        "colab": {
          "base_uri": "https://localhost:8080/"
        },
        "id": "b4ESUQ3vTuta",
        "outputId": "ea49b696-8dc8-4a0b-a94f-87583c8b2837"
      },
      "source": [
        "# My solution\n",
        "def solution(mtrx):\n",
        "    for v in mtrx:\n",
        "        arr_id, target_id = 99, 99\n",
        "        for i,j in enumerate(v):\n",
        "            if j == '>':\n",
        "                arr_id = i\n",
        "            if j == 'x':\n",
        "                target_id = i\n",
        "                return arr_id < target_id\n",
        "            \n",
        "solution([\n",
        "  [' ', ' ', ' ', ' ', ' '],\n",
        "  [' ', ' ', ' ', ' ', ' '],\n",
        "  [' ', ' ', ' ', ' ', ' '],\n",
        "  [' ', ' ', '>', ' ', 'x'],\n",
        "  [' ', ' ', '', ' ', ' ']\n",
        "])\n",
        "\n",
        "# solution([\n",
        "#   ['>', ' '],\n",
        "#   [' ', 'x']\n",
        "# ])"
      ],
      "execution_count": null,
      "outputs": [
        {
          "output_type": "execute_result",
          "data": {
            "text/plain": [
              "True"
            ]
          },
          "metadata": {
            "tags": []
          },
          "execution_count": 12
        }
      ]
    },
    {
      "cell_type": "code",
      "metadata": {
        "colab": {
          "base_uri": "https://localhost:8080/",
          "height": 35
        },
        "id": "44TewlTwKIG5",
        "outputId": "8597968f-56f1-426d-984e-88abbe30a36c"
      },
      "source": [
        "def stat(strg):\n",
        "  \n",
        "  def get_times(el):\n",
        "    hh, mm, ss = [int(v) for v in el.split('|')]\n",
        "    return hh * 3600 + mm * 60 + ss\n",
        "\n",
        "  def get_range(times):\n",
        "    return times[-1] - times[0]\n",
        "\n",
        "  def get_avg(times):\n",
        "    return sum(times) // len(times)\n",
        "\n",
        "  def get_median(times):\n",
        "    n = len(times)\n",
        "    middle = n >> 1\n",
        "    return (times[middle] if n & 1 else\n",
        "            (times[middle-1] + times[middle]) // 2)\n",
        "\n",
        "\n",
        "  def format_date(time):\n",
        "    hh = time // 3600\n",
        "    mm = time // 60 % 60\n",
        "    ss = time % 60\n",
        "    return \"{hh:02d}|{mm:02d}|{ss:02d}\".format(**locals())\n",
        "\n",
        "\n",
        "  if strg == '':\n",
        "    return strg\n",
        "\n",
        "  times = [get_times(el) for el in strg.split(', ')]\n",
        "  times.sort()\n",
        "  rng = format_date(get_range(times))\n",
        "  avg = format_date(get_avg(times))\n",
        "  mdn = format_date(get_median(times))\n",
        "  return \"Range: {rng} Average: {avg} Median: {mdn}\".format(**locals())\n",
        "\n",
        "\n",
        "stat(\"01|15|59, 1|47|16, 01|17|20, 1|32|34, 2|17|17\")\n",
        "# \"Range: 01|01|18 Average: 01|38|05 Median: 01|32|34\""
      ],
      "execution_count": null,
      "outputs": [
        {
          "output_type": "execute_result",
          "data": {
            "application/vnd.google.colaboratory.intrinsic+json": {
              "type": "string"
            },
            "text/plain": [
              "'Range: 01|01|18 Average: 01|38|05 Median: 01|32|34'"
            ]
          },
          "metadata": {
            "tags": []
          },
          "execution_count": 54
        }
      ]
    },
    {
      "cell_type": "code",
      "metadata": {
        "colab": {
          "base_uri": "https://localhost:8080/",
          "height": 35
        },
        "id": "ZO9ayuFZHS3n",
        "outputId": "8af13eef-a58d-4d34-a6d6-c76a9ecc874c"
      },
      "source": [
        "# My Solution\n",
        "\n",
        "def stat(strg):\n",
        "    if strg == \"\":\n",
        "        return \"\"\n",
        "\n",
        "    array_form = strg.replace(' ', '').split(',')\n",
        "    array_form = [el.split('|') for el in array_form]\n",
        "    seconds = [hours_to_seconds(el) for el in array_form]\n",
        "    rng = max(seconds) - min(seconds)\n",
        "    avg = int(sum(seconds) / len(seconds))\n",
        "    md = median(seconds)\n",
        "    return \"Range: {} Average: {} Median: {}\".format(second_to_hour(rng), \n",
        "                                                     second_to_hour(avg),\n",
        "                                                     second_to_hour(md))\n",
        "\n",
        "def median(arr):\n",
        "    n = len(arr)\n",
        "    s = sorted(arr)\n",
        "    return (sum(s[n//2-1:n//2+1])//2, s[n//2])[n % 2]\n",
        "\n",
        "def hours_to_seconds(h):\n",
        "    h = list(map(int, h))\n",
        "    return h[0]*3600+h[1]*60+h[2]\n",
        "\n",
        "def second_to_hour(s):\n",
        "    hour = s//3600\n",
        "    minute = (s - hour*3600)//60\n",
        "    second = s % 60\n",
        "    return \"{}|{}|{}\".format(str(hour).zfill(2), \n",
        "                             str(minute).zfill(2), \n",
        "                             str(second).zfill(2))\n",
        "\n",
        "stat(\"01|15|59, 1|47|16, 01|17|20, 1|32|34, 2|17|17\")\n",
        "# \"Range: 01|01|18 Average: 01|38|05 Median: 01|32|34"
      ],
      "execution_count": null,
      "outputs": [
        {
          "output_type": "execute_result",
          "data": {
            "application/vnd.google.colaboratory.intrinsic+json": {
              "type": "string"
            },
            "text/plain": [
              "'Range: 01|01|18 Average: 01|38|05 Median: 01|32|34'"
            ]
          },
          "metadata": {
            "tags": []
          },
          "execution_count": 11
        }
      ]
    },
    {
      "cell_type": "code",
      "metadata": {
        "colab": {
          "base_uri": "https://localhost:8080/",
          "height": 35
        },
        "id": "y6v-YAvyoj3L",
        "outputId": "7b19c951-8d8a-4535-959a-6e8ea412a03a"
      },
      "source": [
        "x = '00111'\n",
        "max(x, key=x.count)"
      ],
      "execution_count": null,
      "outputs": [
        {
          "output_type": "execute_result",
          "data": {
            "application/vnd.google.colaboratory.intrinsic+json": {
              "type": "string"
            },
            "text/plain": [
              "'1'"
            ]
          },
          "metadata": {
            "tags": []
          },
          "execution_count": 79
        }
      ]
    },
    {
      "cell_type": "code",
      "metadata": {
        "colab": {
          "base_uri": "https://localhost:8080/",
          "height": 35
        },
        "id": "1vDBN7FImRRw",
        "outputId": "dded9b8d-0cdc-46e1-c713-d3a03d4f7904"
      },
      "source": [
        "def encode(word):\n",
        "  return \"\".join(digit * 3 for char in word for digit in f\"{ord(char):08b}\")\n",
        "\n",
        "def decode(bits):\n",
        "  reduced = (get_digit(tripled) for tripled in chunks(bits, 3))\n",
        "  return \"\".join(get_char(byte) for byte in chunks(\"\".join(reduced), 8))\n",
        "\n",
        "def chunks(seq, size):\n",
        "  return (seq[i:i+size] for i in range(0, len(seq), size))\n",
        "\n",
        "def get_digit(seq):\n",
        "  return max(seq, key=seq.count)\n",
        "\n",
        "def get_char(byte):\n",
        "  return chr(int(byte, 2))\n",
        "\n",
        "decode(encode('hey'))"
      ],
      "execution_count": null,
      "outputs": [
        {
          "output_type": "execute_result",
          "data": {
            "application/vnd.google.colaboratory.intrinsic+json": {
              "type": "string"
            },
            "text/plain": [
              "'hey'"
            ]
          },
          "metadata": {
            "tags": []
          },
          "execution_count": 90
        }
      ]
    },
    {
      "cell_type": "code",
      "metadata": {
        "colab": {
          "base_uri": "https://localhost:8080/",
          "height": 35
        },
        "id": "fFT_lUCZ1Dwx",
        "outputId": "b686c398-8892-4240-cb58-6f9cf8aa3c9b"
      },
      "source": [
        "# My solution hamming code\n",
        "\n",
        "def encode(word):\n",
        "  binary = list(map(lambda w: bin(ord(w))[2:].zfill(8), word))\n",
        "  tripled =  [s*3 for bin in binary for s in bin]\n",
        "  return ''.join(tripled)\n",
        "\n",
        "\n",
        "def decode(bits):\n",
        "  triples = [list(bits[i:i+3]) for i in range(0, len(bits), 3)]\n",
        "  correct_bits = ['1' if tri.count('1')>1 else '0' for tri in triples]\n",
        "  eight_bit = [''.join(correct_bits[i:i+8]) for i in range(0, len(correct_bits), 8)]\n",
        "  ASCII = [int(binary, 2) for binary in eight_bit]\n",
        "  return ''.join([chr(integer) for integer in ASCII])\n",
        "                                                  \n",
        "                                                \n",
        "encode('hey')"
      ],
      "execution_count": null,
      "outputs": [
        {
          "output_type": "execute_result",
          "data": {
            "application/vnd.google.colaboratory.intrinsic+json": {
              "type": "string"
            },
            "text/plain": [
              "'000111111000111000000000000111111000000111000111000111111111111000000111'"
            ]
          },
          "metadata": {
            "tags": []
          },
          "execution_count": 64
        }
      ]
    },
    {
      "cell_type": "code",
      "metadata": {
        "colab": {
          "base_uri": "https://localhost:8080/"
        },
        "id": "CXhg0N9yvuDB",
        "outputId": "7c72dfbe-ac0a-4b16-9454-d34cd953acb3"
      },
      "source": [
        "def sum_pairs(ints, s):\n",
        "    for num in ints:\n",
        "        k = s - num\n",
        "        if k in ints:\n",
        "            return [num, k]\n",
        "    return None\n",
        "    \n",
        "sum_pairs([10, 5, 2, 3, 7, 5], 10)"
      ],
      "execution_count": null,
      "outputs": [
        {
          "output_type": "execute_result",
          "data": {
            "text/plain": [
              "[5, 5]"
            ]
          },
          "metadata": {
            "tags": []
          },
          "execution_count": 3
        }
      ]
    },
    {
      "cell_type": "code",
      "metadata": {
        "colab": {
          "base_uri": "https://localhost:8080/"
        },
        "id": "lYyknLnRRBHb",
        "outputId": "b7656f14-271d-45fc-9a5f-91c2bea8c167"
      },
      "source": [
        "# NOTE: It works but not effective and not efficiency\n",
        "\n",
        "import math\n",
        "\n",
        "def list_squared(m, n):\n",
        "  ans = []\n",
        "  while m <= n:\n",
        "    sum_of_squared_div = sum([i*i for i in range(1, m+1) if m%i==0])\n",
        "    if int(math.sqrt(sum_of_squared_div))**2 == sum_of_squared_div:\n",
        "      ans.append([m, sum_of_squared_div])\n",
        "    m += 1\n",
        "  return ans\n",
        "\n",
        "list_squared(1, 250) # [[1, 1], [42, 2500], [246, 84100]])\n",
        "# list_squared(42, 250) # [[42, 2500], [246, 84100]])\n",
        "# list_squared(250, 500) # [[287, 84100]])"
      ],
      "execution_count": null,
      "outputs": [
        {
          "output_type": "execute_result",
          "data": {
            "text/plain": [
              "[[1, 1], [42, 2500], [246, 84100]]"
            ]
          },
          "metadata": {
            "tags": []
          },
          "execution_count": 1
        }
      ]
    },
    {
      "cell_type": "code",
      "metadata": {
        "colab": {
          "base_uri": "https://localhost:8080/"
        },
        "id": "wu1SWIppDNy8",
        "outputId": "5eac7de0-5d77-43db-d5f8-c587e1c6aa2f"
      },
      "source": [
        "def is_prime(num):\n",
        "  if num == 2:\n",
        "    return True\n",
        "  elif num < 2:\n",
        "    return False\n",
        "  for i in range(2,num):\n",
        "    if (i**num-i) % num != 0:\n",
        "      return False\n",
        "    return True\n",
        "      \n",
        "is_prime(4)"
      ],
      "execution_count": null,
      "outputs": [
        {
          "output_type": "execute_result",
          "data": {
            "text/plain": [
              "False"
            ]
          },
          "metadata": {
            "tags": []
          },
          "execution_count": 71
        }
      ]
    },
    {
      "cell_type": "code",
      "metadata": {
        "colab": {
          "base_uri": "https://localhost:8080/"
        },
        "id": "Dtqh7aJ39XJ6",
        "outputId": "e297040a-c66b-4a1b-942f-cd4f172fb583"
      },
      "source": [
        "x = [1,2,3]\n",
        "list(map(lambda x: x+2, x))"
      ],
      "execution_count": null,
      "outputs": [
        {
          "output_type": "execute_result",
          "data": {
            "text/plain": [
              "[3, 4, 5]"
            ]
          },
          "metadata": {
            "tags": []
          },
          "execution_count": 12
        }
      ]
    },
    {
      "cell_type": "code",
      "metadata": {
        "colab": {
          "base_uri": "https://localhost:8080/",
          "height": 35
        },
        "id": "22aLGGCU8uud",
        "outputId": "21669c10-1219-4bda-833e-637691415aa1"
      },
      "source": [
        "def find_missing_letter(chars):\n",
        "  complete = sum(list(range(ord(chars[0]), ord(chars[-1])+1)))\n",
        "  missing = sum(map(lambda x: ord(x), chars))\n",
        "  return chr(complete-missing)\n",
        "  \n",
        "\n",
        "find_missing_letter(['a','b','c','d','f']) # 'e'\n",
        "# find_missing_letter(['O','Q','R','S']) # 'P'"
      ],
      "execution_count": null,
      "outputs": [
        {
          "output_type": "execute_result",
          "data": {
            "application/vnd.google.colaboratory.intrinsic+json": {
              "type": "string"
            },
            "text/plain": [
              "'e'"
            ]
          },
          "metadata": {
            "tags": []
          },
          "execution_count": 17
        }
      ]
    },
    {
      "cell_type": "code",
      "metadata": {
        "colab": {
          "base_uri": "https://localhost:8080/",
          "height": 35
        },
        "id": "EbWYyXevoiLT",
        "outputId": "43716aa8-6330-41eb-fd56-6dde7bff6591"
      },
      "source": [
        "def generate_hashtag(s):\n",
        "  string = '#'+s.title().replace(' ', '')\n",
        "  return False if string\n",
        "  \n",
        "  # # my code\n",
        "  #   string = \"\".join([item.capitalize() for item in s.split()])\n",
        "  #   return False if len(s) == 0 or len(string) > 140 else '#'+string\n",
        "\n",
        "\n",
        "# generate_hashtag('c i n') # '#CIN'\n",
        "generate_hashtag('codewars  is  nice') # '#CodewarsIsNice'"
      ],
      "execution_count": null,
      "outputs": [
        {
          "output_type": "execute_result",
          "data": {
            "application/vnd.google.colaboratory.intrinsic+json": {
              "type": "string"
            },
            "text/plain": [
              "'#CodewarsIsNice'"
            ]
          },
          "metadata": {
            "tags": []
          },
          "execution_count": 78
        }
      ]
    },
    {
      "cell_type": "code",
      "metadata": {
        "colab": {
          "base_uri": "https://localhost:8080/"
        },
        "id": "hn3JeRAaHc4Z",
        "outputId": "703ee2d2-7b08-4f4e-8143-a2b1e8e2b2af"
      },
      "source": [
        "def move_zeros(array):\n",
        "  # # 1\n",
        "  # l = [i for i in array if isinstance(i, bool) or i!=0]\n",
        "  # return l+[0]*(len(array)-len(l))\n",
        "\n",
        "  return sorted(array, key=lambda x: x==0 and type(x) is not bool)\n",
        "\n",
        "\n",
        "\n",
        "  # # My code\n",
        "  # loop = sum(1 for i in array if i is 0 or str(i) == '0.0')\n",
        "  # new_array = list(filter(lambda x: str(x) != '0.0' and x is not 0, array))\n",
        "  # for _ in range(loop):\n",
        "  #   new_array.append(0)\n",
        "\n",
        "  # return new_array\n",
        "\n",
        "\n",
        "\n",
        "move_zeros([False,1,0,1,2,0,1,3,\"a\",0.0])\n",
        "# move_zeros([9, 0.0, 9, 1, 2, 1, 1, 0.0, 3, 1, 9, 9, 0, 0, 0, 0, 0, 0, 0, 0, 0, 0])"
      ],
      "execution_count": null,
      "outputs": [
        {
          "output_type": "execute_result",
          "data": {
            "text/plain": [
              "[False, 1, 1, 2, 1, 3, 'a', 0, 0, 0.0]"
            ]
          },
          "metadata": {
            "tags": []
          },
          "execution_count": 38
        }
      ]
    },
    {
      "cell_type": "code",
      "metadata": {
        "colab": {
          "base_uri": "https://localhost:8080/"
        },
        "id": "8ZSkZHGNMtML",
        "outputId": "3a633871-aa3c-441e-ab52-43893476f876"
      },
      "source": [
        "x = \"4of Fo1r pe6ople g3ood th5e the2\"\n",
        "x = x.split()\n",
        "new = []\n",
        "for i in range(1, len(x)+1):\n",
        "  for chars in x:\n",
        "    for c in chars:\n",
        "      if c == str(i):\n",
        "        new.append(chars)\n",
        "\n",
        "\n",
        "print(new)"
      ],
      "execution_count": null,
      "outputs": [
        {
          "output_type": "stream",
          "text": [
            "['Fo1r', 'the2', 'g3ood', '4of', 'th5e', 'pe6ople']\n"
          ],
          "name": "stdout"
        }
      ]
    },
    {
      "cell_type": "code",
      "metadata": {
        "id": "HlYzmadXNS8z",
        "colab": {
          "base_uri": "https://localhost:8080/",
          "height": 35
        },
        "outputId": "6fae4331-0d8c-4d76-9d2b-9c7e818d88db"
      },
      "source": [
        "def order(sentence):\n",
        "    return \" \".join(sorted(sentence.split(), key=lambda x: int(filter(str.isdigit, x))))\n",
        "\n",
        "def order(words):\n",
        "  return ' '.join(sorted(words.split(), key=lambda w:sorted(w)))\n",
        "\n",
        "order(\"is2 Thi1s T4est 3a\") # \"Thi1s is2 3a T4est\")\n",
        "order(\"4of Fo1r pe6ople g3ood th5e the2\") # \"Fo1r the2 g3ood 4of th5e pe6ople\")\n",
        "# order(\"\") # \"\""
      ],
      "execution_count": null,
      "outputs": [
        {
          "output_type": "execute_result",
          "data": {
            "application/vnd.google.colaboratory.intrinsic+json": {
              "type": "string"
            },
            "text/plain": [
              "'Fo1r the2 g3ood 4of th5e pe6ople'"
            ]
          },
          "metadata": {
            "tags": []
          },
          "execution_count": 2
        }
      ]
    },
    {
      "cell_type": "code",
      "metadata": {
        "colab": {
          "base_uri": "https://localhost:8080/"
        },
        "id": "rLXZVsyD53o2",
        "outputId": "e8c68605-e91e-4c1f-8ea5-a1971d20158b"
      },
      "source": [
        "def valid_parentheses(string):\n",
        "    return string.count(\")\") == string.count(\"(\")\n",
        "\n",
        "\n",
        "valid_parentheses(\"  (\") # False\n",
        "valid_parentheses(\")test\") # False\n",
        "valid_parentheses(\"\") # True\n",
        "valid_parentheses(\"hi())(\") # False\n",
        "# valid_parentheses(\"hi(hi)()\") # True"
      ],
      "execution_count": null,
      "outputs": [
        {
          "output_type": "execute_result",
          "data": {
            "text/plain": [
              "True"
            ]
          },
          "metadata": {
            "tags": []
          },
          "execution_count": 42
        }
      ]
    },
    {
      "cell_type": "code",
      "metadata": {
        "colab": {
          "base_uri": "https://localhost:8080/"
        },
        "id": "Y-tytOux5PBC",
        "outputId": "e880050f-e6a2-42e7-86b1-cf7f3307a94d"
      },
      "source": [
        "def solution(s):\n",
        "  result = []\n",
        "  if len(s) % 2:\n",
        "    s += '_'\n",
        "  for i in range(0, len(s), 2):\n",
        "    result.append(s[i:i+2])\n",
        "  return result\n",
        "\n",
        "\n",
        "solution('abc') # should return ['ab', 'c_']\n",
        "solution('abcdef') # should return ['ab', 'cd', 'ef']"
      ],
      "execution_count": null,
      "outputs": [
        {
          "output_type": "execute_result",
          "data": {
            "text/plain": [
              "['ab', 'cd', 'ef']"
            ]
          },
          "metadata": {
            "tags": []
          },
          "execution_count": 39
        }
      ]
    },
    {
      "cell_type": "code",
      "metadata": {
        "colab": {
          "base_uri": "https://localhost:8080/",
          "height": 35
        },
        "id": "yCfxk_oX3EpS",
        "outputId": "925ff412-5893-4cbc-f2c7-be956a9818bc"
      },
      "source": [
        "def find_missing_letter(chars):\n",
        "  n = 0\n",
        "  while ord(chars[n]) == ord(chars[n+1]) - 1:\n",
        "    n += 1\n",
        "  return chr(ord(chars[n])+1)\n",
        "\n",
        "\n",
        "find_missing_letter(['a','b','c','d','f']) # 'e'\n",
        "find_missing_letter(['O','Q','R','S']) # 'P'"
      ],
      "execution_count": null,
      "outputs": [
        {
          "output_type": "execute_result",
          "data": {
            "application/vnd.google.colaboratory.intrinsic+json": {
              "type": "string"
            },
            "text/plain": [
              "'P'"
            ]
          },
          "metadata": {
            "tags": []
          },
          "execution_count": 28
        }
      ]
    },
    {
      "cell_type": "code",
      "metadata": {
        "colab": {
          "base_uri": "https://localhost:8080/",
          "height": 35
        },
        "id": "fzOwSPMAiIPm",
        "outputId": "4aa298fd-42b2-4d35-8842-eabc9636dca1"
      },
      "source": [
        "def find_missing_letter(chars):\n",
        "  for i in range(ord(chars[0]), ord(chars[-1])):\n",
        "    if chr(i) not in chars: return chr(i)\n",
        "\n",
        "\n",
        "find_missing_letter(['a','b','c','d','f']) # 'e'\n",
        "find_missing_letter(['O','Q','R','S']) # 'P'"
      ],
      "execution_count": null,
      "outputs": [
        {
          "output_type": "execute_result",
          "data": {
            "application/vnd.google.colaboratory.intrinsic+json": {
              "type": "string"
            },
            "text/plain": [
              "'P'"
            ]
          },
          "metadata": {
            "tags": []
          },
          "execution_count": 23
        }
      ]
    }
  ]
}